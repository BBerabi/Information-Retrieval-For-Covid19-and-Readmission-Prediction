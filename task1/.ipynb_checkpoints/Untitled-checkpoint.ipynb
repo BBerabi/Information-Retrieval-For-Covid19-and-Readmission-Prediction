{
 "cells": [
  {
   "cell_type": "code",
   "execution_count": 1,
   "metadata": {},
   "outputs": [],
   "source": [
    "import pandas as pd \n"
   ]
  },
  {
   "cell_type": "code",
   "execution_count": 2,
   "metadata": {},
   "outputs": [],
   "source": [
    "df= pd.read_csv(\"./data/diab_train.csv\")\n"
   ]
  },
  {
   "cell_type": "code",
   "execution_count": 3,
   "metadata": {},
   "outputs": [
    {
     "data": {
      "text/plain": [
       "Index(['Unnamed: 0', 'race', 'gender', 'age', 'weight', 'admission_type_id',\n",
       "       'discharge_disposition_id', 'admission_source_id', 'time_in_hospital',\n",
       "       'payer_code', 'medical_specialty', 'num_lab_procedures',\n",
       "       'num_procedures', 'num_medications', 'number_outpatient',\n",
       "       'number_emergency', 'number_inpatient', 'diag_1', 'diag_2', 'diag_3',\n",
       "       'number_diagnoses', 'max_glu_serum', 'A1Cresult', 'metformin',\n",
       "       'repaglinide', 'nateglinide', 'chlorpropamide', 'glimepiride',\n",
       "       'acetohexamide', 'glipizide', 'glyburide', 'tolbutamide',\n",
       "       'pioglitazone', 'rosiglitazone', 'acarbose', 'miglitol', 'troglitazone',\n",
       "       'tolazamide', 'examide', 'citoglipton', 'insulin',\n",
       "       'glyburide.metformin', 'glipizide.metformin',\n",
       "       'glimepiride.pioglitazone', 'metformin.rosiglitazone',\n",
       "       'metformin.pioglitazone', 'change', 'diabetesMed', 'readmitted',\n",
       "       'diag_1_desc', 'diag_2_desc', 'diag_3_desc'],\n",
       "      dtype='object')"
      ]
     },
     "execution_count": 3,
     "metadata": {},
     "output_type": "execute_result"
    }
   ],
   "source": [
    "df.columns"
   ]
  },
  {
   "cell_type": "code",
   "execution_count": 4,
   "metadata": {},
   "outputs": [],
   "source": [
    "# 1) Drop \n",
    "df.drop(labels=['weight','payer_code'],axis=1,inplace=True)"
   ]
  },
  {
   "cell_type": "code",
   "execution_count": 5,
   "metadata": {},
   "outputs": [],
   "source": [
    "#2) Numerical coding for medical_speciality"
   ]
  },
  {
   "cell_type": "code",
   "execution_count": 6,
   "metadata": {},
   "outputs": [
    {
     "name": "stdout",
     "output_type": "stream",
     "text": [
      "Caucasian          4418\n",
      "AfricanAmerican    1237\n",
      "?                   124\n",
      "Hispanic            116\n",
      "Other                74\n",
      "Asian                31\n",
      "Name: race, dtype: int64\n",
      "250     737\n",
      "401     562\n",
      "276     274\n",
      "428     253\n",
      "427     237\n",
      "       ... \n",
      "E943      1\n",
      "360       1\n",
      "494       1\n",
      "659       1\n",
      "751       1\n",
      "Name: diag_3, Length: 392, dtype: int64\n"
     ]
    }
   ],
   "source": [
    "print(df['race'].value_counts())\n",
    "print(df['diag_3'].value_counts())"
   ]
  },
  {
   "cell_type": "code",
   "execution_count": 7,
   "metadata": {},
   "outputs": [],
   "source": [
    "# 3) Race diag_3 fill missing values \n",
    "tmp = df['race'].copy()\n",
    "tmp[tmp == '?'] = 'Caucasian'\n",
    "df['race'] = tmp "
   ]
  },
  {
   "cell_type": "code",
   "execution_count": 8,
   "metadata": {},
   "outputs": [],
   "source": [
    "tmp1 = df['diag_3'].copy()\n",
    "tmp1[tmp1=='?'] = '250' \n",
    "df['diag_3'] = tmp1"
   ]
  },
  {
   "cell_type": "code",
   "execution_count": 9,
   "metadata": {},
   "outputs": [],
   "source": [
    "to_cat = list(df.select_dtypes(['object']).columns)\n",
    "#df['race'].cat.categories\n"
   ]
  },
  {
   "cell_type": "code",
   "execution_count": 11,
   "metadata": {},
   "outputs": [],
   "source": [
    "df[to_cat] = df[to_cat].astype('category')\n",
    "#category_names = df[to_cat].cat.categories\n",
    "d=dict()\n",
    "for n in to_cat :\n",
    "    tmp = list(df[n].cat.categories)\n",
    "    d[n] = tmp \n",
    "\n"
   ]
  },
  {
   "cell_type": "code",
   "execution_count": 16,
   "metadata": {},
   "outputs": [],
   "source": [
    "cat_columns = df.select_dtypes(['category']).columns\n",
    "df[cat_columns] = df[cat_columns].apply(lambda x: x.cat.codes)\n"
   ]
  },
  {
   "cell_type": "code",
   "execution_count": 19,
   "metadata": {},
   "outputs": [
    {
     "data": {
      "text/plain": [
       "Index(['Unnamed: 0', 'race', 'gender', 'age', 'admission_type_id',\n",
       "       'discharge_disposition_id', 'admission_source_id', 'time_in_hospital',\n",
       "       'medical_specialty', 'num_lab_procedures', 'num_procedures',\n",
       "       'num_medications', 'number_outpatient', 'number_emergency',\n",
       "       'number_inpatient', 'diag_1', 'diag_2', 'diag_3', 'number_diagnoses',\n",
       "       'max_glu_serum', 'A1Cresult', 'metformin', 'repaglinide', 'nateglinide',\n",
       "       'chlorpropamide', 'glimepiride', 'acetohexamide', 'glipizide',\n",
       "       'glyburide', 'tolbutamide', 'pioglitazone', 'rosiglitazone', 'acarbose',\n",
       "       'miglitol', 'troglitazone', 'tolazamide', 'examide', 'citoglipton',\n",
       "       'insulin', 'glyburide.metformin', 'glipizide.metformin',\n",
       "       'glimepiride.pioglitazone', 'metformin.rosiglitazone',\n",
       "       'metformin.pioglitazone', 'change', 'diabetesMed', 'readmitted',\n",
       "       'diag_1_desc', 'diag_2_desc', 'diag_3_desc'],\n",
       "      dtype='object')"
      ]
     },
     "execution_count": 19,
     "metadata": {},
     "output_type": "execute_result"
    }
   ],
   "source": [
    "df.columns"
   ]
  },
  {
   "cell_type": "code",
   "execution_count": null,
   "metadata": {},
   "outputs": [],
   "source": [
    "def preprocessing(df):\n",
    "    # Drop unnecessary columns \n",
    "    # weights, payer_code, diag_1_desc, diag_2_desc, diag_3_desc\n",
    "    df.drop(labels=['weight','payer_code', 'diag_1_desc', 'diag_2_desc', 'diag_3_desc'],axis=1,inplace=True)\n",
    "    \n",
    "    #Fill missing values \n",
    "    #Race -> filled with Caucasian\n",
    "    tmp = df['race'].copy()\n",
    "    tmp[tmp == '?'] = 'Caucasian'\n",
    "    df['race'] = tmp \n",
    "    \n",
    "    #Diag_3 filled with 250 \n",
    "    tmp1 = df['diag_3'].copy()\n",
    "    tmp1[tmp1=='?'] = '250' \n",
    "    df['diag_3'] = tmp1\n",
    "    \n",
    "    #Encode string data to numericals\n",
    "    to_cat = list(df.select_dtypes(['object']).columns)\n",
    "    df[to_cat] = df[to_cat].astype('category')\n",
    "    #Category names\n",
    "    d=dict()\n",
    "    for n in to_cat :\n",
    "        tmp = list(df[n].cat.categories)\n",
    "        d[n] = tmp \n",
    "    cat_columns = df.select_dtypes(['category']).columns\n",
    "    df[cat_columns] = df[cat_columns].apply(lambda x: x.cat.codes)\n",
    "    \n",
    "    #Get Readmitted as labels \n",
    "    label = df['readmitted']\n",
    "    df.drop(labels=['readmitted'],axis=1,inplace=True)\n",
    "    \n",
    "    return df, label, d\n",
    "    "
   ]
  }
 ],
 "metadata": {
  "kernelspec": {
   "display_name": "Python 3",
   "language": "python",
   "name": "python3"
  },
  "language_info": {
   "codemirror_mode": {
    "name": "ipython",
    "version": 3
   },
   "file_extension": ".py",
   "mimetype": "text/x-python",
   "name": "python",
   "nbconvert_exporter": "python",
   "pygments_lexer": "ipython3",
   "version": "3.7.5"
  }
 },
 "nbformat": 4,
 "nbformat_minor": 2
}
