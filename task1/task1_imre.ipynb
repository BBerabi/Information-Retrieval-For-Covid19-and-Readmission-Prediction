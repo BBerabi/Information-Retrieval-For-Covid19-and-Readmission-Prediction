{
 "cells": [
  {
   "cell_type": "markdown",
   "metadata": {},
   "source": [
    "## Task1 using a tfidf-vectorizer to convert text to numbers"
   ]
  },
  {
   "cell_type": "code",
   "execution_count": 1,
   "metadata": {},
   "outputs": [],
   "source": [
    "import pandas as pd\n",
    "import numpy as np\n",
    "import matplotlib.pyplot as plt\n",
    "from sklearn.feature_extraction.text import TfidfVectorizer\n",
    "from sklearn.feature_selection import SelectKBest\n",
    "import re\n",
    "from sklearn.feature_selection import f_classif, chi2"
   ]
  },
  {
   "cell_type": "markdown",
   "metadata": {},
   "source": [
    "#### Load data into pandas dataframes"
   ]
  },
  {
   "cell_type": "code",
   "execution_count": 2,
   "metadata": {},
   "outputs": [],
   "source": [
    "df_train = pd.read_csv('data/diab_train.csv')\n",
    "df_test = pd.read_csv('data/diab_test.csv')\n",
    "df_val = pd.read_csv('data/diab_validation.csv')\n",
    "\n",
    "df_train.dropna(inplace=True)\n",
    "df_test.dropna(inplace=True)\n",
    "df_val.dropna(inplace=True)"
   ]
  },
  {
   "cell_type": "markdown",
   "metadata": {},
   "source": [
    "#### Concatenate all three diagnosis to one string"
   ]
  },
  {
   "cell_type": "code",
   "execution_count": 3,
   "metadata": {},
   "outputs": [],
   "source": [
    "train_txt = (df_train['diag_1_desc'] + ' ' + df_train['diag_2_desc'] + ' ' + df_train['diag_3_desc']).tolist()\n",
    "test_txt = (df_test['diag_1_desc'] + ' ' + df_test['diag_2_desc'] + ' ' + df_test['diag_3_desc']).tolist()\n",
    "val_txt = (df_val['diag_1_desc'] + ' ' + df_val['diag_2_desc'] + ' ' + df_val['diag_3_desc']).tolist()"
   ]
  },
  {
   "cell_type": "markdown",
   "metadata": {},
   "source": [
    "#### Create labels"
   ]
  },
  {
   "cell_type": "code",
   "execution_count": 4,
   "metadata": {},
   "outputs": [],
   "source": [
    "train_y = df_train['readmitted'].to_numpy()\n",
    "test_y = df_test['readmitted'].to_numpy()\n",
    "val_y = df_val['readmitted'].to_numpy()"
   ]
  },
  {
   "cell_type": "markdown",
   "metadata": {},
   "source": [
    "#### Define preprocessing step which will be later used by the tfidfvectorizer"
   ]
  },
  {
   "cell_type": "code",
   "execution_count": 5,
   "metadata": {},
   "outputs": [
    {
     "name": "stderr",
     "output_type": "stream",
     "text": [
      "[nltk_data] Downloading package wordnet to /home/imre/nltk_data...\n",
      "[nltk_data]   Package wordnet is already up-to-date!\n"
     ]
    }
   ],
   "source": [
    "import nltk\n",
    "nltk.download('wordnet')\n",
    "from nltk.stem import WordNetLemmatizer\n",
    "from nltk.corpus import stopwords \n",
    "from nltk.tokenize import word_tokenize\n",
    "\n",
    "def preprocess(text):\n",
    "    stop_words = set(stopwords.words('english')) \n",
    "  \n",
    "    word_tokens = word_tokenize(text) \n",
    "  \n",
    "    text = [w for w in word_tokens if not w in stop_words]\n",
    "    text = ' '.join(text)\n",
    "    return WordNetLemmatizer().lemmatize(text)"
   ]
  },
  {
   "cell_type": "markdown",
   "metadata": {},
   "source": [
    "#### N-gram vectorizer using unigrams and bigrams"
   ]
  },
  {
   "cell_type": "code",
   "execution_count": 6,
   "metadata": {},
   "outputs": [],
   "source": [
    "def ngram_vectorize(train_texts, train_labels, val_texts, test_texts,\n",
    "\tngram_range = (1,2),\n",
    "\tTOP_K=1000,\n",
    "\tTOKEN_MODE='word',\n",
    "\tMIN_DOCUMENT_FREQUENCY = 2,\n",
    "\tMAX_FEATURES = 1000):\n",
    "\t\"\"\"Vectorizes texts as n-gram vectors.\n",
    "\n",
    "\t1 text = 1 tf-idf vector the length of vocabulary of unigrams + bigrams.\n",
    "\n",
    "\t# Arguments\n",
    "\t\ttrain_texts: list, training text strings.\n",
    "\t\ttrain_labels: np.ndarray, training labels.\n",
    "\t\tval_texts: list, validation text strings.\n",
    "\n",
    "\t# Returns\n",
    "\t\tx_train, x_val: vectorized training and validation texts\n",
    "\t\"\"\"\n",
    "\t# Create keyword arguments to pass to the 'tf-idf' vectorizer.\n",
    "\tkwargs = {\n",
    "\t\t\t'ngram_range': ngram_range,  # Use 1-grams + 2-grams.\n",
    "\t\t\t'dtype': np.float64,\n",
    "\t\t\t'strip_accents': 'unicode',\n",
    "\t\t\t'decode_error': 'replace',\n",
    "\t\t\t'analyzer': TOKEN_MODE,  # Split text into word tokens.\n",
    "\t\t\t'min_df': MIN_DOCUMENT_FREQUENCY,\n",
    "\t\t\t'max_features': MAX_FEATURES,\n",
    "\t\t\t'preprocessor': preprocess\n",
    "\t}\n",
    "\tvectorizer = TfidfVectorizer(**kwargs)\n",
    "\n",
    "\t# Learn vocabulary from training texts and vectorize training texts.\n",
    "\tx_train = vectorizer.fit_transform(train_texts)\n",
    "\n",
    "\t# Vectorize validation texts.\n",
    "\tx_val = vectorizer.transform(val_texts)\n",
    "\t# Vectorize test set\n",
    "\tx_test = vectorizer.transform(test_texts)\n",
    "\n",
    "\t# Select top 'k' of the vectorized features.\n",
    "\tselector = SelectKBest(score_func=chi2, k=min(TOP_K, x_train.shape[1]))\n",
    "\tselector.fit(x_train, train_labels)\n",
    "\tx_train = selector.transform(x_train).astype('float32')\n",
    "\tx_val = selector.transform(x_val).astype('float32')\n",
    "\tx_test = selector.transform(x_test).astype('float32')\n",
    "\n",
    "\t\n",
    "\treturn x_train.todense(), x_val.todense(), x_test.todense(), vectorizer, selector"
   ]
  },
  {
   "cell_type": "code",
   "execution_count": 7,
   "metadata": {},
   "outputs": [],
   "source": [
    "x_train, x_val, x_test, vectorizer, selector = ngram_vectorize(train_txt, train_y, val_txt, test_txt)"
   ]
  },
  {
   "cell_type": "code",
   "execution_count": 8,
   "metadata": {},
   "outputs": [],
   "source": [
    "from train_model import train_ngram_model"
   ]
  },
  {
   "cell_type": "code",
   "execution_count": 9,
   "metadata": {},
   "outputs": [
    {
     "name": "stdout",
     "output_type": "stream",
     "text": [
      "Train on 4886 samples, validate on 1613 samples\n",
      "Epoch 1/30\n",
      "4886/4886 - 1s - loss: 0.6746 - acc: 0.5966 - val_loss: 0.6664 - val_acc: 0.5983\n",
      "Epoch 2/30\n",
      "4886/4886 - 0s - loss: 0.6608 - acc: 0.5962 - val_loss: 0.6628 - val_acc: 0.6076\n",
      "Epoch 3/30\n",
      "4886/4886 - 0s - loss: 0.6531 - acc: 0.6066 - val_loss: 0.6653 - val_acc: 0.6063\n",
      "Epoch 4/30\n",
      "4886/4886 - 0s - loss: 0.6453 - acc: 0.6218 - val_loss: 0.6654 - val_acc: 0.5908\n",
      "Validation accuracy: 0.590824544429779, loss: 0.6653728665066889\n"
     ]
    }
   ],
   "source": [
    "model = train_ngram_model(x_train, train_y,x_val,val_y)"
   ]
  },
  {
   "cell_type": "code",
   "execution_count": 10,
   "metadata": {},
   "outputs": [],
   "source": [
    "y_pred=model.predict_classes(x_test)"
   ]
  },
  {
   "cell_type": "code",
   "execution_count": 11,
   "metadata": {},
   "outputs": [
    {
     "name": "stdout",
     "output_type": "stream",
     "text": [
      "1599/1599 [==============================] - 0s 55us/sample - loss: 0.6756 - acc: 0.5785\n"
     ]
    },
    {
     "data": {
      "text/plain": [
       "[0.6755613507965045, 0.57848656]"
      ]
     },
     "execution_count": 11,
     "metadata": {},
     "output_type": "execute_result"
    }
   ],
   "source": [
    "model.evaluate(x_test,test_y)"
   ]
  },
  {
   "cell_type": "code",
   "execution_count": null,
   "metadata": {},
   "outputs": [],
   "source": []
  }
 ],
 "metadata": {
  "kernelspec": {
   "display_name": "Python (my_ML4H)",
   "language": "python",
   "name": "my_ml4h"
  },
  "language_info": {
   "codemirror_mode": {
    "name": "ipython",
    "version": 3
   },
   "file_extension": ".py",
   "mimetype": "text/x-python",
   "name": "python",
   "nbconvert_exporter": "python",
   "pygments_lexer": "ipython3",
   "version": "3.7.7"
  }
 },
 "nbformat": 4,
 "nbformat_minor": 4
}
