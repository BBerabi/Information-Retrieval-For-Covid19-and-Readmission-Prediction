{
 "cells": [
  {
   "cell_type": "markdown",
   "metadata": {},
   "source": [
    "# What do we know about COVID-19 risk factors?\n",
    "#### This notebook tries to answer the question with the help of Word2Vec embeddings.<br> The notebook has following structure:\n",
    "1. Analysing and filtering the metadata\n",
    "2. Generating a dataframe with the articles\n",
    "3. Preprocess the text\n",
    "4. Word2Vec"
   ]
  },
  {
   "cell_type": "code",
   "execution_count": 1,
   "metadata": {},
   "outputs": [],
   "source": [
    "import pandas as pd\n",
    "import numpy as np\n",
    "import json\n",
    "import glob"
   ]
  },
  {
   "cell_type": "markdown",
   "metadata": {},
   "source": [
    "## 1. Analysis and filtering the metadata\n",
    "Load the metadata.csv file into a pandas dataframe"
   ]
  },
  {
   "cell_type": "code",
   "execution_count": 2,
   "metadata": {},
   "outputs": [
    {
     "data": {
      "text/html": [
       "<div>\n",
       "<style scoped>\n",
       "    .dataframe tbody tr th:only-of-type {\n",
       "        vertical-align: middle;\n",
       "    }\n",
       "\n",
       "    .dataframe tbody tr th {\n",
       "        vertical-align: top;\n",
       "    }\n",
       "\n",
       "    .dataframe thead th {\n",
       "        text-align: right;\n",
       "    }\n",
       "</style>\n",
       "<table border=\"1\" class=\"dataframe\">\n",
       "  <thead>\n",
       "    <tr style=\"text-align: right;\">\n",
       "      <th></th>\n",
       "      <th>cord_uid</th>\n",
       "      <th>sha</th>\n",
       "      <th>source_x</th>\n",
       "      <th>title</th>\n",
       "      <th>doi</th>\n",
       "      <th>pmcid</th>\n",
       "      <th>pubmed_id</th>\n",
       "      <th>license</th>\n",
       "      <th>abstract</th>\n",
       "      <th>publish_time</th>\n",
       "      <th>authors</th>\n",
       "      <th>journal</th>\n",
       "      <th>Microsoft Academic Paper ID</th>\n",
       "      <th>WHO #Covidence</th>\n",
       "      <th>has_pdf_parse</th>\n",
       "      <th>has_pmc_xml_parse</th>\n",
       "      <th>full_text_file</th>\n",
       "      <th>url</th>\n",
       "    </tr>\n",
       "  </thead>\n",
       "  <tbody>\n",
       "    <tr>\n",
       "      <th>0</th>\n",
       "      <td>8q5ondtn</td>\n",
       "      <td>NaN</td>\n",
       "      <td>Elsevier</td>\n",
       "      <td>Intrauterine virus infections and congenital h...</td>\n",
       "      <td>10.1016/0002-8703(72)90077-4</td>\n",
       "      <td>NaN</td>\n",
       "      <td>4361535.0</td>\n",
       "      <td>els-covid</td>\n",
       "      <td>Abstract The etiologic basis for the vast majo...</td>\n",
       "      <td>1972-12-31</td>\n",
       "      <td>Overall, James C.</td>\n",
       "      <td>American Heart Journal</td>\n",
       "      <td>NaN</td>\n",
       "      <td>NaN</td>\n",
       "      <td>False</td>\n",
       "      <td>False</td>\n",
       "      <td>custom_license</td>\n",
       "      <td>https://doi.org/10.1016/0002-8703(72)90077-4</td>\n",
       "    </tr>\n",
       "    <tr>\n",
       "      <th>1</th>\n",
       "      <td>pzfd0e50</td>\n",
       "      <td>NaN</td>\n",
       "      <td>Elsevier</td>\n",
       "      <td>Coronaviruses in Balkan nephritis</td>\n",
       "      <td>10.1016/0002-8703(80)90355-5</td>\n",
       "      <td>NaN</td>\n",
       "      <td>6243850.0</td>\n",
       "      <td>els-covid</td>\n",
       "      <td>NaN</td>\n",
       "      <td>1980-03-31</td>\n",
       "      <td>Georgescu, Leonida; Diosi, Peter; Buţiu, Ioan;...</td>\n",
       "      <td>American Heart Journal</td>\n",
       "      <td>NaN</td>\n",
       "      <td>NaN</td>\n",
       "      <td>False</td>\n",
       "      <td>False</td>\n",
       "      <td>custom_license</td>\n",
       "      <td>https://doi.org/10.1016/0002-8703(80)90355-5</td>\n",
       "    </tr>\n",
       "    <tr>\n",
       "      <th>2</th>\n",
       "      <td>22bka3gi</td>\n",
       "      <td>NaN</td>\n",
       "      <td>Elsevier</td>\n",
       "      <td>Cigarette smoking and coronary heart disease: ...</td>\n",
       "      <td>10.1016/0002-8703(80)90356-7</td>\n",
       "      <td>NaN</td>\n",
       "      <td>7355701.0</td>\n",
       "      <td>els-covid</td>\n",
       "      <td>NaN</td>\n",
       "      <td>1980-03-31</td>\n",
       "      <td>Friedman, Gary D</td>\n",
       "      <td>American Heart Journal</td>\n",
       "      <td>NaN</td>\n",
       "      <td>NaN</td>\n",
       "      <td>False</td>\n",
       "      <td>False</td>\n",
       "      <td>custom_license</td>\n",
       "      <td>https://doi.org/10.1016/0002-8703(80)90356-7</td>\n",
       "    </tr>\n",
       "    <tr>\n",
       "      <th>3</th>\n",
       "      <td>zp9k1k3z</td>\n",
       "      <td>aecbc613ebdab36753235197ffb4f35734b5ca63</td>\n",
       "      <td>Elsevier</td>\n",
       "      <td>Clinical and immunologic studies in identical ...</td>\n",
       "      <td>10.1016/0002-9343(73)90176-9</td>\n",
       "      <td>NaN</td>\n",
       "      <td>4579077.0</td>\n",
       "      <td>els-covid</td>\n",
       "      <td>Abstract Middle-aged female identical twins, o...</td>\n",
       "      <td>1973-08-31</td>\n",
       "      <td>Brunner, Carolyn M.; Horwitz, David A.; Shann,...</td>\n",
       "      <td>The American Journal of Medicine</td>\n",
       "      <td>NaN</td>\n",
       "      <td>NaN</td>\n",
       "      <td>True</td>\n",
       "      <td>False</td>\n",
       "      <td>custom_license</td>\n",
       "      <td>https://doi.org/10.1016/0002-9343(73)90176-9</td>\n",
       "    </tr>\n",
       "    <tr>\n",
       "      <th>4</th>\n",
       "      <td>cjuzul89</td>\n",
       "      <td>NaN</td>\n",
       "      <td>Elsevier</td>\n",
       "      <td>Epidemiology of community-acquired respiratory...</td>\n",
       "      <td>10.1016/0002-9343(85)90361-4</td>\n",
       "      <td>NaN</td>\n",
       "      <td>4014285.0</td>\n",
       "      <td>els-covid</td>\n",
       "      <td>Abstract Upper respiratory tract infections ar...</td>\n",
       "      <td>1985-06-28</td>\n",
       "      <td>Garibaldi, Richard A.</td>\n",
       "      <td>The American Journal of Medicine</td>\n",
       "      <td>NaN</td>\n",
       "      <td>NaN</td>\n",
       "      <td>False</td>\n",
       "      <td>False</td>\n",
       "      <td>custom_license</td>\n",
       "      <td>https://doi.org/10.1016/0002-9343(85)90361-4</td>\n",
       "    </tr>\n",
       "  </tbody>\n",
       "</table>\n",
       "</div>"
      ],
      "text/plain": [
       "   cord_uid                                       sha  source_x  \\\n",
       "0  8q5ondtn                                       NaN  Elsevier   \n",
       "1  pzfd0e50                                       NaN  Elsevier   \n",
       "2  22bka3gi                                       NaN  Elsevier   \n",
       "3  zp9k1k3z  aecbc613ebdab36753235197ffb4f35734b5ca63  Elsevier   \n",
       "4  cjuzul89                                       NaN  Elsevier   \n",
       "\n",
       "                                               title  \\\n",
       "0  Intrauterine virus infections and congenital h...   \n",
       "1                  Coronaviruses in Balkan nephritis   \n",
       "2  Cigarette smoking and coronary heart disease: ...   \n",
       "3  Clinical and immunologic studies in identical ...   \n",
       "4  Epidemiology of community-acquired respiratory...   \n",
       "\n",
       "                            doi pmcid  pubmed_id    license  \\\n",
       "0  10.1016/0002-8703(72)90077-4   NaN  4361535.0  els-covid   \n",
       "1  10.1016/0002-8703(80)90355-5   NaN  6243850.0  els-covid   \n",
       "2  10.1016/0002-8703(80)90356-7   NaN  7355701.0  els-covid   \n",
       "3  10.1016/0002-9343(73)90176-9   NaN  4579077.0  els-covid   \n",
       "4  10.1016/0002-9343(85)90361-4   NaN  4014285.0  els-covid   \n",
       "\n",
       "                                            abstract publish_time  \\\n",
       "0  Abstract The etiologic basis for the vast majo...   1972-12-31   \n",
       "1                                                NaN   1980-03-31   \n",
       "2                                                NaN   1980-03-31   \n",
       "3  Abstract Middle-aged female identical twins, o...   1973-08-31   \n",
       "4  Abstract Upper respiratory tract infections ar...   1985-06-28   \n",
       "\n",
       "                                             authors  \\\n",
       "0                                  Overall, James C.   \n",
       "1  Georgescu, Leonida; Diosi, Peter; Buţiu, Ioan;...   \n",
       "2                                   Friedman, Gary D   \n",
       "3  Brunner, Carolyn M.; Horwitz, David A.; Shann,...   \n",
       "4                              Garibaldi, Richard A.   \n",
       "\n",
       "                            journal  Microsoft Academic Paper ID  \\\n",
       "0            American Heart Journal                          NaN   \n",
       "1            American Heart Journal                          NaN   \n",
       "2            American Heart Journal                          NaN   \n",
       "3  The American Journal of Medicine                          NaN   \n",
       "4  The American Journal of Medicine                          NaN   \n",
       "\n",
       "  WHO #Covidence  has_pdf_parse  has_pmc_xml_parse  full_text_file  \\\n",
       "0            NaN          False              False  custom_license   \n",
       "1            NaN          False              False  custom_license   \n",
       "2            NaN          False              False  custom_license   \n",
       "3            NaN           True              False  custom_license   \n",
       "4            NaN          False              False  custom_license   \n",
       "\n",
       "                                            url  \n",
       "0  https://doi.org/10.1016/0002-8703(72)90077-4  \n",
       "1  https://doi.org/10.1016/0002-8703(80)90355-5  \n",
       "2  https://doi.org/10.1016/0002-8703(80)90356-7  \n",
       "3  https://doi.org/10.1016/0002-9343(73)90176-9  \n",
       "4  https://doi.org/10.1016/0002-9343(85)90361-4  "
      ]
     },
     "execution_count": 2,
     "metadata": {},
     "output_type": "execute_result"
    }
   ],
   "source": [
    "metadata_path = './data/metadata.csv'\n",
    "meta_df = pd.read_csv(metadata_path, dtype={\n",
    "    'WHO #Covidence': str,\n",
    "    'sha': str\n",
    "})\n",
    "meta_df.head()"
   ]
  },
  {
   "cell_type": "markdown",
   "metadata": {},
   "source": [
    "The next step is to filter the entries of the metadata file.\n",
    "First of all we just want to keep entries which have also the full text. This can be done by removing every row,\n",
    "which has a '*False*' entry in **'has_pdf_parse'** and **'has_pmc_xml_parse'**.\n",
    "\n",
    "After that all papers which were published before **2019-08-01** are removed since those will certainly not contain anything about COVID-19.\n",
    "\n",
    "As a last step we drop every row which has a NaN in the column **'sha'**.\n",
    "With this filtering the number of rows is reduced by almost a factor of 10."
   ]
  },
  {
   "cell_type": "code",
   "execution_count": 3,
   "metadata": {},
   "outputs": [
    {
     "name": "stdout",
     "output_type": "stream",
     "text": [
      "Number of rows before filtering: 47298\n",
      "Number of rows after filtering: 3990\n"
     ]
    }
   ],
   "source": [
    "print('Number of rows before filtering:',meta_df.shape[0])\n",
    "\n",
    "# remove rows which do not have the full text\n",
    "meta_df = meta_df.loc[meta_df['has_pdf_parse'] | meta_df['has_pmc_xml_parse'], :]\n",
    "\n",
    "# remove papers which were published before 2019-07-01\n",
    "meta_df.drop(meta_df[pd.to_datetime(meta_df['publish_time']) < '2019-08-01'].index,inplace=True)\n",
    "\n",
    "# remove entries which do not have a sha\n",
    "meta_df.dropna(subset=['sha'],inplace=True)\n",
    "print('Number of rows after filtering:',meta_df.shape[0])"
   ]
  },
  {
   "cell_type": "markdown",
   "metadata": {},
   "source": [
    "#### Get the path of all JSON files."
   ]
  },
  {
   "cell_type": "code",
   "execution_count": 4,
   "metadata": {},
   "outputs": [
    {
     "name": "stdout",
     "output_type": "stream",
     "text": [
      "Number of JSON files found: 52097\n"
     ]
    }
   ],
   "source": [
    "all_json = glob.glob('./data/**/*.json', recursive=True)\n",
    "print('Number of JSON files found:',len(all_json))"
   ]
  },
  {
   "cell_type": "markdown",
   "metadata": {},
   "source": [
    "#### A helper class to load the JSON files for later use."
   ]
  },
  {
   "cell_type": "code",
   "execution_count": 5,
   "metadata": {},
   "outputs": [],
   "source": [
    "class JSONFileReader:\n",
    "    def __init__(self, file_path):\n",
    "        with open(file_path) as file:\n",
    "            content = json.load(file)\n",
    "            self.paper_id = content['paper_id']\n",
    "            self.body_text = []\n",
    "            # Body text\n",
    "            for entry in content['body_text']:\n",
    "                self.body_text.append(entry['text'])\n",
    "            self.body_text = '\\n'.join(self.body_text)"
   ]
  },
  {
   "cell_type": "markdown",
   "metadata": {},
   "source": [
    "## 2. Generate dataframe with articles"
   ]
  },
  {
   "cell_type": "code",
   "execution_count": 6,
   "metadata": {},
   "outputs": [
    {
     "name": "stdout",
     "output_type": "stream",
     "text": [
      "Processing index: 0 of 52097\n",
      "Processing index: 5209 of 52097\n",
      "Processing index: 10418 of 52097\n",
      "Processing index: 15627 of 52097\n",
      "Processing index: 20836 of 52097\n",
      "Processing index: 26045 of 52097\n",
      "Processing index: 31254 of 52097\n",
      "Processing index: 36463 of 52097\n",
      "Processing index: 41672 of 52097\n",
      "Processing index: 46881 of 52097\n",
      "Processing index: 52090 of 52097\n",
      "\n",
      "Number of papers skipped: 48275\n"
     ]
    },
    {
     "data": {
      "text/html": [
       "<div>\n",
       "<style scoped>\n",
       "    .dataframe tbody tr th:only-of-type {\n",
       "        vertical-align: middle;\n",
       "    }\n",
       "\n",
       "    .dataframe tbody tr th {\n",
       "        vertical-align: top;\n",
       "    }\n",
       "\n",
       "    .dataframe thead th {\n",
       "        text-align: right;\n",
       "    }\n",
       "</style>\n",
       "<table border=\"1\" class=\"dataframe\">\n",
       "  <thead>\n",
       "    <tr style=\"text-align: right;\">\n",
       "      <th></th>\n",
       "      <th>paper_id</th>\n",
       "      <th>title</th>\n",
       "      <th>authors</th>\n",
       "      <th>publish_time</th>\n",
       "      <th>journal</th>\n",
       "      <th>body_text</th>\n",
       "      <th>abstract</th>\n",
       "    </tr>\n",
       "  </thead>\n",
       "  <tbody>\n",
       "    <tr>\n",
       "      <th>0</th>\n",
       "      <td>c96cd1e79d3f1ea12887e2b4d9b3347b9ee07137</td>\n",
       "      <td>Effects of ubiquitin-proteasome inhibitor on t...</td>\n",
       "      <td>Zhang, Hui; Yu, Jingbin; Sun, Hu; Zhao, Yunhe;...</td>\n",
       "      <td>2019-08-14</td>\n",
       "      <td>Exp Ther Med</td>\n",
       "      <td>Viral myocarditis (VMC), as one of the most co...</td>\n",
       "      <td>Effects of ubiquitin-proteasome system (UPS) i...</td>\n",
       "    </tr>\n",
       "    <tr>\n",
       "      <th>1</th>\n",
       "      <td>4bbb0c59babc718f67953fae032dad6ae0d7aeb1</td>\n",
       "      <td>Genome Detective Coronavirus Typing Tool for r...</td>\n",
       "      <td>Cleemput, S.; Dumon, W.; Fonseca, V.; Karim, W...</td>\n",
       "      <td>2020</td>\n",
       "      <td>Bioinformatics (Oxford, England)</td>\n",
       "      <td>We are currently faced with a potential global...</td>\n",
       "      <td>SUMMARY: Genome Detective is a web-based, user...</td>\n",
       "    </tr>\n",
       "    <tr>\n",
       "      <th>2</th>\n",
       "      <td>c439e1028bc93d94f4eba1855c6b1eade676f732</td>\n",
       "      <td>Acute Respiratory Distress Syndrome as an Orga...</td>\n",
       "      <td>Chang, Jae C.</td>\n",
       "      <td>2019-11-28</td>\n",
       "      <td>Clin Appl Thromb Hemost</td>\n",
       "      <td>Acute respiratory distress syndrome (ARDS) is ...</td>\n",
       "      <td>Acute respiratory distress syndrome (ARDS) is ...</td>\n",
       "    </tr>\n",
       "    <tr>\n",
       "      <th>3</th>\n",
       "      <td>58be092086c74c58e9067121a6ba4836468e7ec3</td>\n",
       "      <td>The Author's Response: Case of the Index Patie...</td>\n",
       "      <td>Lim, Jaegyun; Jeon, Seunghyun; Shin, Hyun Youn...</td>\n",
       "      <td>2020</td>\n",
       "      <td>J Korean Med Sci</td>\n",
       "      <td>administration reduces viral load. Also, the a...</td>\n",
       "      <td>NaN</td>\n",
       "    </tr>\n",
       "    <tr>\n",
       "      <th>4</th>\n",
       "      <td>6bd9a619434c6c57efe77c253b97c31d98369b02</td>\n",
       "      <td>Mycoplasma pneumoniaeassociated transverse mye...</td>\n",
       "      <td>Salloum, Shafee; Goenka, Ajay; Ey, Elizabeth</td>\n",
       "      <td>2019-09-12</td>\n",
       "      <td>Clin Pract</td>\n",
       "      <td>and brachioradialis, but normal on the left si...</td>\n",
       "      <td>Acute transverse myelitis is a rare spinal cor...</td>\n",
       "    </tr>\n",
       "  </tbody>\n",
       "</table>\n",
       "</div>"
      ],
      "text/plain": [
       "                                   paper_id  \\\n",
       "0  c96cd1e79d3f1ea12887e2b4d9b3347b9ee07137   \n",
       "1  4bbb0c59babc718f67953fae032dad6ae0d7aeb1   \n",
       "2  c439e1028bc93d94f4eba1855c6b1eade676f732   \n",
       "3  58be092086c74c58e9067121a6ba4836468e7ec3   \n",
       "4  6bd9a619434c6c57efe77c253b97c31d98369b02   \n",
       "\n",
       "                                               title  \\\n",
       "0  Effects of ubiquitin-proteasome inhibitor on t...   \n",
       "1  Genome Detective Coronavirus Typing Tool for r...   \n",
       "2  Acute Respiratory Distress Syndrome as an Orga...   \n",
       "3  The Author's Response: Case of the Index Patie...   \n",
       "4  Mycoplasma pneumoniaeassociated transverse mye...   \n",
       "\n",
       "                                             authors publish_time  \\\n",
       "0  Zhang, Hui; Yu, Jingbin; Sun, Hu; Zhao, Yunhe;...   2019-08-14   \n",
       "1  Cleemput, S.; Dumon, W.; Fonseca, V.; Karim, W...         2020   \n",
       "2                                      Chang, Jae C.   2019-11-28   \n",
       "3  Lim, Jaegyun; Jeon, Seunghyun; Shin, Hyun Youn...         2020   \n",
       "4       Salloum, Shafee; Goenka, Ajay; Ey, Elizabeth   2019-09-12   \n",
       "\n",
       "                            journal  \\\n",
       "0                      Exp Ther Med   \n",
       "1  Bioinformatics (Oxford, England)   \n",
       "2           Clin Appl Thromb Hemost   \n",
       "3                  J Korean Med Sci   \n",
       "4                        Clin Pract   \n",
       "\n",
       "                                           body_text  \\\n",
       "0  Viral myocarditis (VMC), as one of the most co...   \n",
       "1  We are currently faced with a potential global...   \n",
       "2  Acute respiratory distress syndrome (ARDS) is ...   \n",
       "3  administration reduces viral load. Also, the a...   \n",
       "4  and brachioradialis, but normal on the left si...   \n",
       "\n",
       "                                            abstract  \n",
       "0  Effects of ubiquitin-proteasome system (UPS) i...  \n",
       "1  SUMMARY: Genome Detective is a web-based, user...  \n",
       "2  Acute respiratory distress syndrome (ARDS) is ...  \n",
       "3                                                NaN  \n",
       "4  Acute transverse myelitis is a rare spinal cor...  "
      ]
     },
     "execution_count": 6,
     "metadata": {},
     "output_type": "execute_result"
    }
   ],
   "source": [
    "dict_ = {'paper_id': [], 'title': [], 'authors': [],\n",
    "         'publish_time': [], 'journal': [], 'body_text': [], 'abstract': []}\n",
    "skipped = 0\n",
    "for idx, entry in enumerate(all_json):\n",
    "    if idx % (len(all_json) // 10) == 0:\n",
    "        print(f'Processing index: {idx} of {len(all_json)}')\n",
    "    content = JSONFileReader(entry)\n",
    "    # get metadata information\n",
    "    meta_data = meta_df.loc[meta_df['sha'] == content.paper_id]\n",
    "    # no metadata, skip this paper\n",
    "    if len(meta_data) == 0:\n",
    "        skipped +=1\n",
    "        continue\n",
    "    \n",
    "    dict_['paper_id'].append(content.paper_id)\n",
    "    dict_['title'].append(meta_data['title'].values[0])\n",
    "    dict_['authors'].append(meta_data['authors'].values[0])\n",
    "    dict_['publish_time'].append(meta_data['publish_time'].values[0])\n",
    "    dict_['journal'].append(meta_data['journal'].values[0])\n",
    "    dict_['body_text'].append(content.body_text)\n",
    "    dict_['abstract'].append(meta_data['abstract'].values[0])\n",
    "    \n",
    "df_covid = pd.DataFrame(dict_, columns=['paper_id', 'title', 'authors', 'publish_time',\n",
    "                                        'journal', 'body_text', 'abstract'])\n",
    "print('\\n'+ 'Number of papers skipped:',skipped)\n",
    "df_covid.head()"
   ]
  },
  {
   "cell_type": "markdown",
   "metadata": {},
   "source": [
    "#### Remove duplicates and Nans"
   ]
  },
  {
   "cell_type": "code",
   "execution_count": 7,
   "metadata": {},
   "outputs": [
    {
     "name": "stdout",
     "output_type": "stream",
     "text": [
      "Before removing duplicates: 3822\n",
      "After removing duplicates: 3213\n"
     ]
    }
   ],
   "source": [
    "print('Before removing duplicates:',df_covid.shape[0])\n",
    "df_covid.drop_duplicates(['abstract', 'body_text'], inplace=True)\n",
    "df_covid.dropna(subset=['body_text','abstract','publish_time'],inplace=True)\n",
    "print('After removing duplicates:',df_covid.shape[0])"
   ]
  },
  {
   "cell_type": "markdown",
   "metadata": {},
   "source": [
    "#### Save the dataframe"
   ]
  },
  {
   "cell_type": "code",
   "execution_count": 8,
   "metadata": {},
   "outputs": [],
   "source": [
    "df_covid.to_csv('./data/covid.csv',index=False)"
   ]
  },
  {
   "cell_type": "markdown",
   "metadata": {},
   "source": [
    "## 3. Preprocess text"
   ]
  },
  {
   "cell_type": "code",
   "execution_count": 9,
   "metadata": {},
   "outputs": [],
   "source": [
    "df_covid = pd.read_csv('./data/covid.csv')"
   ]
  },
  {
   "cell_type": "markdown",
   "metadata": {},
   "source": [
    "#### Helper function for preprocessing the text\n",
    "Following steps are done:\n",
    "- convert to lower case\n",
    "- tokenize\n",
    "- remove stop words and punctuation\n",
    "- lemmatize"
   ]
  },
  {
   "cell_type": "code",
   "execution_count": 10,
   "metadata": {},
   "outputs": [
    {
     "name": "stderr",
     "output_type": "stream",
     "text": [
      "[nltk_data] Downloading package wordnet to /home/ander/nltk_data...\n",
      "[nltk_data]   Package wordnet is already up-to-date!\n"
     ]
    }
   ],
   "source": [
    "import nltk\n",
    "nltk.download('wordnet')\n",
    "from nltk.stem import WordNetLemmatizer\n",
    "from nltk import word_tokenize\n",
    "import string\n",
    "from nltk.corpus import stopwords\n",
    "\n",
    "stop_words = set(stopwords.words('english')) \n",
    "\n",
    "def preprocess(text):\n",
    "    # convert to lower case\n",
    "    lower = text.lower()\n",
    "    \n",
    "    # tokenize text\n",
    "    word_tokens = word_tokenize(lower) \n",
    "    \n",
    "    # remove stopwords and punctuation\n",
    "    text = [w for w in word_tokens if not w in stop_words and w not in string.punctuation]\n",
    "    text = ' '.join(text)\n",
    "    return WordNetLemmatizer().lemmatize(text)"
   ]
  },
  {
   "cell_type": "markdown",
   "metadata": {},
   "source": [
    "#### Apply the preprocessing step to the columns 'body_text' and 'abstract'."
   ]
  },
  {
   "cell_type": "code",
   "execution_count": 11,
   "metadata": {},
   "outputs": [],
   "source": [
    "df_covid['body_text_cleaned']=df_covid['body_text'].apply(preprocess)\n",
    "df_covid['abstract_cleaned']=df_covid['abstract'].apply(preprocess)"
   ]
  },
  {
   "cell_type": "markdown",
   "metadata": {},
   "source": [
    "#### As a next step we only want to keep articles which contain either the word covid or corona"
   ]
  },
  {
   "cell_type": "code",
   "execution_count": 12,
   "metadata": {},
   "outputs": [
    {
     "name": "stdout",
     "output_type": "stream",
     "text": [
      "# of rows before cleaning: 3213\n",
      "# of rows after cleaning: 2408\n"
     ]
    }
   ],
   "source": [
    "def search(text):\n",
    "    if text.find('covid') == -1 and text.find('corona') == -1:\n",
    "        return False\n",
    "    return True\n",
    "\n",
    "print('# of rows before cleaning:',df_covid.shape[0])\n",
    "\n",
    "df_covid['found_covid'] = df_covid['body_text_cleaned'].apply(search)\n",
    "#df_covid = df_covid[df_covid['found_covid'] == True]\n",
    "df_covid.drop(df_covid[df_covid['found_covid'] == False].index, inplace=True)\n",
    "df_covid.drop(['found_covid'], axis=1, inplace=True)\n",
    "\n",
    "print('# of rows after cleaning:',df_covid.shape[0])"
   ]
  },
  {
   "cell_type": "markdown",
   "metadata": {},
   "source": [
    "#### Sort rows by date\n",
    "Since the articel in the first row has publish_time = 2019-08-01 there are certainly older articles which contain the word corona or covid."
   ]
  },
  {
   "cell_type": "code",
   "execution_count": 13,
   "metadata": {},
   "outputs": [
    {
     "data": {
      "text/html": [
       "<div>\n",
       "<style scoped>\n",
       "    .dataframe tbody tr th:only-of-type {\n",
       "        vertical-align: middle;\n",
       "    }\n",
       "\n",
       "    .dataframe tbody tr th {\n",
       "        vertical-align: top;\n",
       "    }\n",
       "\n",
       "    .dataframe thead th {\n",
       "        text-align: right;\n",
       "    }\n",
       "</style>\n",
       "<table border=\"1\" class=\"dataframe\">\n",
       "  <thead>\n",
       "    <tr style=\"text-align: right;\">\n",
       "      <th></th>\n",
       "      <th>paper_id</th>\n",
       "      <th>title</th>\n",
       "      <th>authors</th>\n",
       "      <th>publish_time</th>\n",
       "      <th>journal</th>\n",
       "      <th>body_text</th>\n",
       "      <th>abstract</th>\n",
       "      <th>body_text_cleaned</th>\n",
       "      <th>abstract_cleaned</th>\n",
       "    </tr>\n",
       "  </thead>\n",
       "  <tbody>\n",
       "    <tr>\n",
       "      <th>2808</th>\n",
       "      <td>7203ff6238ce039aad6fbcbceab04051a59ae0e2</td>\n",
       "      <td>Human Antimicrobial Peptides as Therapeutics f...</td>\n",
       "      <td>Ahmed, Aslaa; Siman-Tov, Gavriella; Hall, Gran...</td>\n",
       "      <td>2019-08-01</td>\n",
       "      <td>Viruses</td>\n",
       "      <td>Found in virtually all organisms, antimicrobia...</td>\n",
       "      <td>Successful in vivo infection following pathoge...</td>\n",
       "      <td>found virtually organisms antimicrobial peptid...</td>\n",
       "      <td>successful vivo infection following pathogen e...</td>\n",
       "    </tr>\n",
       "    <tr>\n",
       "      <th>309</th>\n",
       "      <td>91f08a1a02ed51a781b1265d345b60cc63ff32fe</td>\n",
       "      <td>Toward a quantification of risks at the nexus ...</td>\n",
       "      <td>Pruvot, Mathieu; Khammavong, Kongsy; Milavong,...</td>\n",
       "      <td>2019-08-01</td>\n",
       "      <td>Science of The Total Environment</td>\n",
       "      <td>• Bushmeat trade in Lao PDR is considerable an...</td>\n",
       "      <td>Abstract Trade of bushmeat and other wildlife ...</td>\n",
       "      <td>• bushmeat trade lao pdr considerable likely e...</td>\n",
       "      <td>abstract trade bushmeat wildlife human consump...</td>\n",
       "    </tr>\n",
       "    <tr>\n",
       "      <th>1302</th>\n",
       "      <td>a8ff3b5e3a206c9d3d567b87b63099413c363b55</td>\n",
       "      <td>Canine babesiosis among working dogs of organi...</td>\n",
       "      <td>Mittal, Mitesh; Kundu, Krishnendu; Chakravarti...</td>\n",
       "      <td>2019-08-01</td>\n",
       "      <td>Preventive Veterinary Medicine</td>\n",
       "      <td>Canine babesiosis (or piroplasmosis) is a sign...</td>\n",
       "      <td>Abstract Canine babesiosis is a serious diseas...</td>\n",
       "      <td>canine babesiosis piroplasmosis significant po...</td>\n",
       "      <td>abstract canine babesiosis serious disease amo...</td>\n",
       "    </tr>\n",
       "    <tr>\n",
       "      <th>2471</th>\n",
       "      <td>045b111f0f2584890e9271399aa93c917a496662</td>\n",
       "      <td>Etiology and Risk Factors for Mortality in an ...</td>\n",
       "      <td>Aston, Stephen J.; Ho, Antonia; Jary, Hannah; ...</td>\n",
       "      <td>2019-08-01</td>\n",
       "      <td>Am J Respir Crit Care Med</td>\n",
       "      <td>Globally, pneumonia is the commonest infectiou...</td>\n",
       "      <td>Rationale: In the context of rapid antiretrovi...</td>\n",
       "      <td>globally pneumonia commonest infectious cause ...</td>\n",
       "      <td>rationale context rapid antiretroviral therapy...</td>\n",
       "    </tr>\n",
       "    <tr>\n",
       "      <th>922</th>\n",
       "      <td>31047a34b6e7cfe9ebd619ed6f518b5e983fd650</td>\n",
       "      <td>Emergence and genetic analysis of variant path...</td>\n",
       "      <td>Rohaim, Mohammed A.; El Naggar, Rania F.; Hamo...</td>\n",
       "      <td>2019-08-01</td>\n",
       "      <td>Virus Genes</td>\n",
       "      <td>. IBV belongs to genus Gammacoronavirus within...</td>\n",
       "      <td>Infectious bronchitis virus (IBV) affects both...</td>\n",
       "      <td>ibv belongs genus gammacoronavirus within coro...</td>\n",
       "      <td>infectious bronchitis virus ibv affects vaccin...</td>\n",
       "    </tr>\n",
       "  </tbody>\n",
       "</table>\n",
       "</div>"
      ],
      "text/plain": [
       "                                      paper_id  \\\n",
       "2808  7203ff6238ce039aad6fbcbceab04051a59ae0e2   \n",
       "309   91f08a1a02ed51a781b1265d345b60cc63ff32fe   \n",
       "1302  a8ff3b5e3a206c9d3d567b87b63099413c363b55   \n",
       "2471  045b111f0f2584890e9271399aa93c917a496662   \n",
       "922   31047a34b6e7cfe9ebd619ed6f518b5e983fd650   \n",
       "\n",
       "                                                  title  \\\n",
       "2808  Human Antimicrobial Peptides as Therapeutics f...   \n",
       "309   Toward a quantification of risks at the nexus ...   \n",
       "1302  Canine babesiosis among working dogs of organi...   \n",
       "2471  Etiology and Risk Factors for Mortality in an ...   \n",
       "922   Emergence and genetic analysis of variant path...   \n",
       "\n",
       "                                                authors publish_time  \\\n",
       "2808  Ahmed, Aslaa; Siman-Tov, Gavriella; Hall, Gran...   2019-08-01   \n",
       "309   Pruvot, Mathieu; Khammavong, Kongsy; Milavong,...   2019-08-01   \n",
       "1302  Mittal, Mitesh; Kundu, Krishnendu; Chakravarti...   2019-08-01   \n",
       "2471  Aston, Stephen J.; Ho, Antonia; Jary, Hannah; ...   2019-08-01   \n",
       "922   Rohaim, Mohammed A.; El Naggar, Rania F.; Hamo...   2019-08-01   \n",
       "\n",
       "                               journal  \\\n",
       "2808                           Viruses   \n",
       "309   Science of The Total Environment   \n",
       "1302    Preventive Veterinary Medicine   \n",
       "2471         Am J Respir Crit Care Med   \n",
       "922                        Virus Genes   \n",
       "\n",
       "                                              body_text  \\\n",
       "2808  Found in virtually all organisms, antimicrobia...   \n",
       "309   • Bushmeat trade in Lao PDR is considerable an...   \n",
       "1302  Canine babesiosis (or piroplasmosis) is a sign...   \n",
       "2471  Globally, pneumonia is the commonest infectiou...   \n",
       "922   . IBV belongs to genus Gammacoronavirus within...   \n",
       "\n",
       "                                               abstract  \\\n",
       "2808  Successful in vivo infection following pathoge...   \n",
       "309   Abstract Trade of bushmeat and other wildlife ...   \n",
       "1302  Abstract Canine babesiosis is a serious diseas...   \n",
       "2471  Rationale: In the context of rapid antiretrovi...   \n",
       "922   Infectious bronchitis virus (IBV) affects both...   \n",
       "\n",
       "                                      body_text_cleaned  \\\n",
       "2808  found virtually organisms antimicrobial peptid...   \n",
       "309   • bushmeat trade lao pdr considerable likely e...   \n",
       "1302  canine babesiosis piroplasmosis significant po...   \n",
       "2471  globally pneumonia commonest infectious cause ...   \n",
       "922   ibv belongs genus gammacoronavirus within coro...   \n",
       "\n",
       "                                       abstract_cleaned  \n",
       "2808  successful vivo infection following pathogen e...  \n",
       "309   abstract trade bushmeat wildlife human consump...  \n",
       "1302  abstract canine babesiosis serious disease amo...  \n",
       "2471  rationale context rapid antiretroviral therapy...  \n",
       "922   infectious bronchitis virus ibv affects vaccin...  "
      ]
     },
     "execution_count": 13,
     "metadata": {},
     "output_type": "execute_result"
    }
   ],
   "source": [
    "df_covid['publish_time'] = pd.to_datetime(df_covid.publish_time)\n",
    "df_covid.sort_values(by=['publish_time'],inplace=True)\n",
    "df_covid.head()"
   ]
  },
  {
   "cell_type": "markdown",
   "metadata": {},
   "source": [
    "#### Save just the text in a dataframe\n",
    "Concatenate the body_text and abstract into one column"
   ]
  },
  {
   "cell_type": "code",
   "execution_count": 14,
   "metadata": {},
   "outputs": [
    {
     "name": "stdout",
     "output_type": "stream",
     "text": [
      "2808    found virtually organisms antimicrobial peptid...\n",
      "309     • bushmeat trade lao pdr considerable likely e...\n",
      "1302    canine babesiosis piroplasmosis significant po...\n",
      "2471    globally pneumonia commonest infectious cause ...\n",
      "922     ibv belongs genus gammacoronavirus within coro...\n",
      "                              ...                        \n",
      "833     zoonotic diseases serious threats health varia...\n",
      "816     digestive respiratory tracts continuously expo...\n",
      "778     medical interventions dramatically increased l...\n",
      "350     aim diagnose covid-19 earlier improve treatmen...\n",
      "1348    emerging infectious disease defined infectious...\n",
      "Name: text, Length: 2408, dtype: object\n"
     ]
    }
   ],
   "source": [
    "df_covid['text']=df_covid['body_text_cleaned']+df_covid['abstract_cleaned']\n",
    "df_text = df_covid['text']\n",
    "print(df_text)\n",
    "df_text.to_csv('./data/text.csv',index=False)"
   ]
  },
  {
   "cell_type": "markdown",
   "metadata": {},
   "source": [
    "## 4. Word2Vec"
   ]
  },
  {
   "cell_type": "code",
   "execution_count": 15,
   "metadata": {},
   "outputs": [
    {
     "data": {
      "text/html": [
       "<div>\n",
       "<style scoped>\n",
       "    .dataframe tbody tr th:only-of-type {\n",
       "        vertical-align: middle;\n",
       "    }\n",
       "\n",
       "    .dataframe tbody tr th {\n",
       "        vertical-align: top;\n",
       "    }\n",
       "\n",
       "    .dataframe thead th {\n",
       "        text-align: right;\n",
       "    }\n",
       "</style>\n",
       "<table border=\"1\" class=\"dataframe\">\n",
       "  <thead>\n",
       "    <tr style=\"text-align: right;\">\n",
       "      <th></th>\n",
       "      <th>text</th>\n",
       "    </tr>\n",
       "  </thead>\n",
       "  <tbody>\n",
       "    <tr>\n",
       "      <th>0</th>\n",
       "      <td>found virtually organisms antimicrobial peptid...</td>\n",
       "    </tr>\n",
       "    <tr>\n",
       "      <th>1</th>\n",
       "      <td>• bushmeat trade lao pdr considerable likely e...</td>\n",
       "    </tr>\n",
       "    <tr>\n",
       "      <th>2</th>\n",
       "      <td>canine babesiosis piroplasmosis significant po...</td>\n",
       "    </tr>\n",
       "    <tr>\n",
       "      <th>3</th>\n",
       "      <td>globally pneumonia commonest infectious cause ...</td>\n",
       "    </tr>\n",
       "    <tr>\n",
       "      <th>4</th>\n",
       "      <td>ibv belongs genus gammacoronavirus within coro...</td>\n",
       "    </tr>\n",
       "  </tbody>\n",
       "</table>\n",
       "</div>"
      ],
      "text/plain": [
       "                                                text\n",
       "0  found virtually organisms antimicrobial peptid...\n",
       "1  • bushmeat trade lao pdr considerable likely e...\n",
       "2  canine babesiosis piroplasmosis significant po...\n",
       "3  globally pneumonia commonest infectious cause ...\n",
       "4  ibv belongs genus gammacoronavirus within coro..."
      ]
     },
     "execution_count": 15,
     "metadata": {},
     "output_type": "execute_result"
    }
   ],
   "source": [
    "df = pd.read_csv('./data/text.csv')\n",
    "df.head()"
   ]
  },
  {
   "cell_type": "code",
   "execution_count": 16,
   "metadata": {},
   "outputs": [],
   "source": [
    "from nltk.stem import SnowballStemmer\n",
    "from nltk import sent_tokenize, word_tokenize\n",
    "import string\n",
    "translator = str.maketrans('','',string.punctuation)\n",
    "from nltk.corpus import stopwords\n",
    "stop = set(stopwords.words('english'))\n",
    "stemmer = SnowballStemmer('english')\n",
    "\n",
    "def get_sentences(doc):\n",
    "    sentences = []\n",
    "    \n",
    "    for raw in sent_tokenize(doc):\n",
    "        raw2 = [i for i in raw.translate(translator).lower().split() if i not in stop and len(i) < 10]\n",
    "        raw3 = [stemmer.stem(t) for t in raw2]\n",
    "        sentences.append(raw3)\n",
    "    return sentences"
   ]
  },
  {
   "cell_type": "code",
   "execution_count": 17,
   "metadata": {
    "scrolled": true
   },
   "outputs": [
    {
     "name": "stderr",
     "output_type": "stream",
     "text": [
      "IOPub data rate exceeded.\n",
      "The notebook server will temporarily stop sending output\n",
      "to the client in order to avoid crashing it.\n",
      "To change this limit, set the config variable\n",
      "`--NotebookApp.iopub_data_rate_limit`.\n",
      "\n",
      "Current values:\n",
      "NotebookApp.iopub_data_rate_limit=1000000.0 (bytes/sec)\n",
      "NotebookApp.rate_limit_window=3.0 (secs)\n",
      "\n"
     ]
    }
   ],
   "source": [
    "###\n",
    "# Word2Vec in gensim\n",
    "###\n",
    "\n",
    "# word2vec requires sentences as input\n",
    "sentences = []\n",
    "for doc in df['text']:\n",
    "    sentences += get_sentences(doc)\n",
    "from random import shuffle\n",
    "shuffle(sentences) # stream in sentences in random order\n",
    "\n",
    "# train the model\n",
    "from gensim.models import Word2Vec\n",
    "print(sentences)\n",
    "w2v = Word2Vec(sentences,  # list of tokenized sentences\n",
    "               workers = 8, # Number of threads to run in parallel\n",
    "               size=300,  # Word vector dimensionality     \n",
    "               min_count =  20, # Minimum word count  \n",
    "               window = 5, # Context window size      \n",
    "               sample = 1e-3, # Downsample setting for frequent words\n",
    "               )\n",
    "\n",
    "# done training, so delete context vectors\n",
    "w2v.init_sims(replace=True)\n",
    "\n",
    "w2v.save('./data/w2v-vectors.pkl')"
   ]
  },
  {
   "cell_type": "markdown",
   "metadata": {},
   "source": [
    "#### List words which are similar to 'virus'"
   ]
  },
  {
   "cell_type": "code",
   "execution_count": 18,
   "metadata": {},
   "outputs": [
    {
     "data": {
      "text/plain": [
       "[('viral', 0.5912830829620361),\n",
       " ('avian', 0.5117582082748413),\n",
       " ('cov', 0.46821874380111694),\n",
       " ('pathogen', 0.46049946546554565),\n",
       " ('measl', 0.45975935459136963),\n",
       " ('norovirus', 0.45921483635902405),\n",
       " ('iav', 0.45544669032096863),\n",
       " ('hadv', 0.4476735591888428),\n",
       " ('host', 0.42003196477890015),\n",
       " ('mump', 0.41783708333969116)]"
      ]
     },
     "execution_count": 18,
     "metadata": {},
     "output_type": "execute_result"
    }
   ],
   "source": [
    "w2v.wv.most_similar('virus')"
   ]
  },
  {
   "cell_type": "markdown",
   "metadata": {},
   "source": [
    "#### List words which are similar to 'risk'\n",
    "We can see the word elder and workload mentioned. Therefore we know they are closely related to the word 'risk'.\n",
    "This makes sense since COVID-19 is more dangerouse for older people."
   ]
  },
  {
   "cell_type": "code",
   "execution_count": 19,
   "metadata": {},
   "outputs": [
    {
     "data": {
      "text/plain": [
       "[('burden', 0.6000455021858215),\n",
       " ('chanc', 0.589929461479187),\n",
       " ('incid', 0.5848392248153687),\n",
       " ('highrisk', 0.5432121157646179),\n",
       " ('awar', 0.5369606614112854),\n",
       " ('elder', 0.5215969085693359),\n",
       " ('worker', 0.4926151633262634),\n",
       " ('prioriti', 0.4844847321510315),\n",
       " ('hazard', 0.4776591360569),\n",
       " ('smoke', 0.4734295904636383)]"
      ]
     },
     "execution_count": 19,
     "metadata": {},
     "output_type": "execute_result"
    }
   ],
   "source": [
    "w2v.wv.most_similar('risk')"
   ]
  },
  {
   "cell_type": "markdown",
   "metadata": {},
   "source": [
    "#### Words similar to 'bat'\n",
    "The word pangolin is closely related to bat."
   ]
  },
  {
   "cell_type": "code",
   "execution_count": 20,
   "metadata": {},
   "outputs": [
    {
     "data": {
      "text/plain": [
       "[('pangolin', 0.7696573734283447),\n",
       " ('sarslik', 0.7137672901153564),\n",
       " ('sarsrcov', 0.6897789239883423),\n",
       " ('affini', 0.6727837324142456),\n",
       " ('zxc21', 0.6595544815063477),\n",
       " ('malayan', 0.650221586227417),\n",
       " ('ratg13', 0.646531343460083),\n",
       " ('mammal', 0.6325733661651611),\n",
       " ('hedgehog', 0.6316180229187012),\n",
       " ('civet', 0.6265983581542969)]"
      ]
     },
     "execution_count": 20,
     "metadata": {},
     "output_type": "execute_result"
    }
   ],
   "source": [
    "w2v.wv.most_similar('bat')"
   ]
  },
  {
   "cell_type": "code",
   "execution_count": null,
   "metadata": {},
   "outputs": [],
   "source": []
  }
 ],
 "metadata": {
  "kernelspec": {
   "display_name": "Python 3",
   "language": "python",
   "name": "python3"
  },
  "language_info": {
   "codemirror_mode": {
    "name": "ipython",
    "version": 3
   },
   "file_extension": ".py",
   "mimetype": "text/x-python",
   "name": "python",
   "nbconvert_exporter": "python",
   "pygments_lexer": "ipython3",
   "version": "3.7.5"
  }
 },
 "nbformat": 4,
 "nbformat_minor": 4
}
