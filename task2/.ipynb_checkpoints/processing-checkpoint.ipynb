{
 "cells": [
  {
   "cell_type": "code",
   "execution_count": 4,
   "metadata": {},
   "outputs": [],
   "source": [
    "import pandas as pd\n",
    "from nltk import word_tokenize\n",
    "from nltk.corpus import stopwords\n",
    "from nltk.stem import WordNetLemmatizer\n",
    "from collections import defaultdict \n",
    "from gensim.utils import lemmatize\n",
    "from gensim import corpora \n",
    "from gensim import models \n",
    "from nltk.corpus import wordnet\n",
    "import nltk "
   ]
  },
  {
   "cell_type": "code",
   "execution_count": 2,
   "metadata": {},
   "outputs": [],
   "source": [
    "#Load data\n",
    "data = pd.read_csv(\"./data/papers.csv\")\n",
    "papers = data['text'][:100]"
   ]
  },
  {
   "cell_type": "code",
   "execution_count": 5,
   "metadata": {},
   "outputs": [],
   "source": [
    "#Tokenize\n",
    "punctuation = \",.?!()-_\\\"\\'\\\\\\n\\r\\t;:+*<>@#§^$%&|/\"\n",
    "processed = [[w.lower() for w in word_tokenize(document)] for document in papers]\n",
    "\n",
    "\n",
    "def get_wordnet_pos(word):\n",
    "    \"\"\"Map POS tag to first character lemmatize() accepts\"\"\"\n",
    "    tag = nltk.pos_tag([word])[0][1][0].upper()\n",
    "    tag_dict = {\"J\": wordnet.ADJ,\n",
    "                \"N\": wordnet.NOUN,\n",
    "                \"V\": wordnet.VERB,\n",
    "                \"R\": wordnet.ADV}\n",
    "\n",
    "    return tag_dict.get(tag, wordnet.NOUN)\n",
    "\n",
    "\n",
    "# 1. Init Lemmatizer\n",
    "lemmatizer = WordNetLemmatizer()\n",
    "processed = [[lemmatizer.lemmatize(w, get_wordnet_pos(w)) for w in doc] for doc in processed]\n",
    "\n",
    "processed = [[w for w in doc if (w not in stopwords.words('english')) and (w not in punctuation)] for doc in processed]"
   ]
  },
  {
   "cell_type": "code",
   "execution_count": 6,
   "metadata": {},
   "outputs": [],
   "source": [
    "#Count \n",
    "frequency = defaultdict(int)\n",
    "for document in processed:\n",
    "    for token in document:\n",
    "        frequency[token] += 1\n"
   ]
  },
  {
   "cell_type": "code",
   "execution_count": 8,
   "metadata": {},
   "outputs": [],
   "source": [
    "#Get only words with frequency >1 \n",
    "processed_corpus = [[w for w in document if frequency[w]>1] for document in processed]"
   ]
  },
  {
   "cell_type": "code",
   "execution_count": 33,
   "metadata": {},
   "outputs": [],
   "source": [
    "#Save it into dictionary \n",
    "dictionary= corpora.Dictionary(processed_corpus)\n",
    "\n",
    "#Create BoW vectors \n",
    "bow_corpus = [dictionary.doc2bow(text) for text in processed_corpus]"
   ]
  },
  {
   "cell_type": "markdown",
   "metadata": {},
   "source": [
    "### Transformations\n"
   ]
  },
  {
   "cell_type": "markdown",
   "metadata": {},
   "source": [
    "- TF-IDF"
   ]
  },
  {
   "cell_type": "code",
   "execution_count": 10,
   "metadata": {},
   "outputs": [],
   "source": [
    "tfidf = models.TfidfModel(bow_corpus, id2word=dictionary, normalize=True,slope=0.25)"
   ]
  },
  {
   "cell_type": "markdown",
   "metadata": {},
   "source": [
    "- LSA"
   ]
  },
  {
   "cell_type": "code",
   "execution_count": null,
   "metadata": {},
   "outputs": [],
   "source": [
    "lsa = ..."
   ]
  },
  {
   "cell_type": "markdown",
   "metadata": {},
   "source": [
    "- LDA "
   ]
  },
  {
   "cell_type": "code",
   "execution_count": null,
   "metadata": {},
   "outputs": [],
   "source": [
    "lda =..."
   ]
  },
  {
   "cell_type": "markdown",
   "metadata": {},
   "source": [
    "- HDP"
   ]
  },
  {
   "cell_type": "code",
   "execution_count": null,
   "metadata": {},
   "outputs": [],
   "source": [
    "hdp = ..."
   ]
  },
  {
   "cell_type": "markdown",
   "metadata": {},
   "source": [
    "- RP"
   ]
  },
  {
   "cell_type": "code",
   "execution_count": null,
   "metadata": {},
   "outputs": [],
   "source": [
    "rp = ..."
   ]
  },
  {
   "cell_type": "markdown",
   "metadata": {},
   "source": [
    "### Preparation for similarity structure"
   ]
  },
  {
   "cell_type": "code",
   "execution_count": 11,
   "metadata": {},
   "outputs": [],
   "source": [
    "from gensim import similarities "
   ]
  },
  {
   "cell_type": "code",
   "execution_count": 12,
   "metadata": {},
   "outputs": [],
   "source": [
    "index = similarities.Similarity(None, tfidf[bow_corpus],num_features=len(dictionary))"
   ]
  },
  {
   "cell_type": "code",
   "execution_count": 13,
   "metadata": {},
   "outputs": [],
   "source": [
    "path_save = \"./data/similarities_1000.index\"\n",
    "index.save(path_save)"
   ]
  },
  {
   "cell_type": "markdown",
   "metadata": {},
   "source": [
    "### Queries "
   ]
  },
  {
   "cell_type": "code",
   "execution_count": 14,
   "metadata": {},
   "outputs": [],
   "source": [
    "example = \"risk factor virus corona 2019\"\n",
    "exp_bow = dictionary.doc2bow(example.lower().split())\n",
    "exp_tfidf = tfidf[exp_bow]"
   ]
  },
  {
   "cell_type": "code",
   "execution_count": 15,
   "metadata": {},
   "outputs": [],
   "source": [
    "sims = index[exp_tfidf]\n",
    "sims = sorted(enumerate(sims), key=lambda item: -item[1])\n"
   ]
  },
  {
   "cell_type": "code",
   "execution_count": 16,
   "metadata": {},
   "outputs": [
    {
     "name": "stdout",
     "output_type": "stream",
     "text": [
      "(80, 0.19489084) Epidemiological status of the Middle East respiratory syndrome coronavirus in 2019: an update from January 1 to March 31, 2019 \n",
      "\n",
      "Human coronaviruses (\n",
      "(82, 0.18770048) First Pediatric Case of Coronavirus Disease 2019 in Korea \n",
      "\n",
      "Seoul National University Bundang Hospital Institutional Review Board approved this study \n",
      "(32, 0.06666849) Challenges presented by MERS corona virus, and SARS corona virus to global health \n",
      "\n",
      "In recent times, several life threatening viruses have emerged. Th\n",
      "(94, 0.023345295) Major advances in managing community-acquired pneumonia \n",
      "\n",
      "A knowledge of the risk factors for community-acquired pneumonia and those at risk of worse \n",
      "(74, 0.020729087) Systemic resilience to cross‐border infectious disease threat events in Europe \n",
      "\n",
      "Global health security has been undermined by infectious disease thre\n",
      "(4, 0.017106785) Risk and Outbreak Communication: Lessons from Taiwan's Experiences in the Post-SARS Era \n",
      "\n",
      "Since 2004, a 24/7 toll-free hotline has been operating to c\n",
      "(76, 0.016456619) National Institute for the Infectious Diseases “L. Spallanzani”, IRCCS. Recommendations for COVID-19 clinical management \n",
      "\n",
      "On January 9 2020, the Worl\n",
      "(47, 0.014808766) Successful Rechallenge with Imatinib in a Patient with Chronic Myeloid Leukemia Who Previously Experienced Imatinib Mesylate Induced Pneumonitis \n",
      "\n",
      "Ima\n",
      "(17, 0.014774292) Impact of isolation on hospitalised patients who are infectious: systematic review with meta-analysis \n",
      "\n",
      "Isolation is an established part of any infect\n",
      "(12, 0.014729549) High Rate of Viral Identification and Coinfections in Infants with Acute Bronchiolitis \n",
      "\n",
      "Acute viral bronchiolitis is one of the most frequent causes \n",
      "(99, 0.01435702) Travellers and influenza: risks and prevention \n",
      "\n",
      "Influenza viruses, members of the Orthomyxoviridae family, are among the most diverse emerging infect\n",
      "(37, 0.012430871) Biologically Hazardous Agents at Work and Efforts to Protect Workers' Health: A Review of Recent Reports \n",
      "\n",
      "Recently, infectious diseases have been fou\n",
      "(30, 0.011406351) Viruses causing lower respiratory symptoms in young children: findings from the ORChID birth cohort \n",
      "\n",
      "Viral acute respiratory infections (ARIs) are a \n",
      "(13, 0.0099162385) Cytokines Interleukin 4 (IL-4) and Interleukin 10 (IL-10) Gene Polymorphisms as Potential Host Susceptibility Factors in Virus-Induced Encephalitis \n",
      "\n",
      "\n",
      "(29, 0.0095846495) Epidemic and pandemic-prone diseases \n",
      "\n",
      "A MERS situation update, August 2018 - At the end of August 2018, a total of 2248 laboratory-confirmed cases of\n",
      "(85, 0.008277337) The Importance of Virology at a Time of Great Need and Great Jeopardy \n",
      "\n",
      "As we enter 2015, one needs to look no farther than the daily news reports to \n",
      "(5, 0.008034741) Detection of Viral and Bacterial Pathogens in Hospitalized Children With Acute Respiratory Illnesses, Chongqing, 2009–2013 \n",
      "\n",
      "Acute respiratory infecti\n",
      "(41, 0.007464716) Development and Applications of VSV Vectors Based on Cell Tropism \n",
      "\n",
      "Viruses are obligate parasites of living organisms, and their replication is absol\n",
      "(8, 0.0072683375) Perspectives of public health laboratories in emerging infectious diseases \n",
      "\n",
      "Infectious diseases have affected humans since the first recorded history\n",
      "(89, 0.0070465356) A DESCRIPTIVE STUDY OF PANDEMIC INFLUENZA A(H1N1)PDM09 IN BRAZIL, 2009 - 2010 \n",
      "\n",
      "Influenza or flu is an acute disease of the respiratory system and is \n",
      "(38, 0.006608302) Impact of a Hypothetical Infectious Disease Outbreak on US Exports and Export-Based Jobs \n",
      "\n",
      "Our illustrative outbreak scenario contains 3 stages of (an\n",
      "(2, 0.006275913) UK newspapers' representations of the 2009–10 outbreak of swine flu: one health scare not over-hyped by the media? \n",
      "\n",
      "A/H1N1, more commonly referred to\n",
      "(49, 0.005923342) Climate Change and Health in Canada \n",
      "\n",
      "National governments from around the world met in Poznan, Poland in December 2008 at the 14th Conference of the \n",
      "(27, 0.005921477) Ebola virus disease: the ‘Black Swan’ in West Africa \n",
      "\n",
      "Ebola virus disease (EVD) was first discovered in the Democratic Republic of the Congo in 1976,\n",
      "(9, 0.005384713) Antiviral Treatment Guidelines for Middle East Respiratory Syndrome \n",
      "\n",
      "Middle East respiratory syndrome (MERS) is an acute respiratory disease caused b\n",
      "(77, 0.005271133) Effects of Timely Control Intervention on the Spread of Middle East Respiratory Syndrome Coronavirus Infection \n",
      "\n",
      "The emergence of Middle East respirat\n",
      "(44, 0.0051678736) Characteristics of human infection with avian influenza viruses and development of new antiviral agents \n",
      "\n",
      "Avian influenza virus (AIV) is a potential s\n",
      "(1, 0.005097008) A review of vaccine development and research for industry animals in Korea \n",
      "\n",
      "The first smallpox vaccination conducted by Edward Jenner in 1796 demonst\n",
      "(3, 0.0050561433) Public Health Crisis Preparedness and Response in Korea \n",
      "\n",
      "The world has been exposed to various emerging infectious diseases in the 21st century, star\n",
      "(97, 0.004639126) Falling down the Rabbit Hole: aTRIP Toward Lexiconic Precision in the “Gain-of-Function” Debate \n",
      "\n",
      "Alice’s trip through the looking glass and her adven\n",
      "(52, 0.0046156645) Searching for animal models and potential target species for emerging pathogens: Experience gained from Middle East respiratory syndrome (MERS) corona\n",
      "(84, 0.0045990245) Approaches for patients with very high MELD scores \n",
      "\n",
      "Since the first experiment by Thomas E Starzl in the 1960s,  liver transplants (LTs) have revolut\n",
      "(45, 0.0045754416) Use of noninvasive ventilation at the pulmonary infection control window for acute respiratory failure in AECOPD patients \n",
      "\n",
      "Patients with acute exacer\n",
      "(68, 0.004324658) Compounds with anti-influenza activity: present and future of strategies for the optimal treatment and management of influenza. Part I: influenza life\n",
      "(14, 0.004158243) Bacterial and Viral Identification Rate in Acute Exacerbation of Chronic Obstructive Pulmonary Disease in Korea \n",
      "\n",
      "Chronic obstructive pulmonary diseas\n",
      "(81, 0.0040701134) Molecular Advances in Severe Acute Respiratory Syndrome-associated Coronavirus (SARS-CoV) \n",
      "\n",
      "The first SARS case was reported in late 2002 in China’s G\n",
      "(39, 0.0039098747) Neonatal infections in Saudi Arabia: Association with cytokine gene polymorphisms \n",
      "\n",
      "Sepsis is a host condition of systemic inappropriate inflammatory \n",
      "(46, 0.0038863004) IN VITRO INTERACTION OF MOUSE HEPATITIS VIRUS AND MACROPHAGES FROM GENETICALLY RESISTANT MICE  \n",
      "\n",
      "\n",
      "(70, 0.0037128502) An H5N1-based matrix protein 2 ectodomain tetrameric peptide vaccine provides cross-protection against lethal infection with H7N9 influenza virus \n",
      "\n",
      "Si\n",
      "(33, 0.003580596) Quantifying Pathogen Surveillance Using Temporal Genomic Data \n",
      "\n",
      "Despite many therapeutic and epidemiological advances, infectious diseases—the number \n",
      "(48, 0.0030374564) A Case of Statin-Induced Interstitial Pneumonitis due to Rosuvastatin \n",
      "\n",
      "Statins, hydroxymethylglutaryl CoA reductase inhibitors, are known to lower th\n",
      "(75, 0.0029886765) Virus-induced immunosuppression in turkeys (Meleagris gallopavo): A review \n",
      "\n",
      "Enteritis is a main problem in poultry, associated to considerable direct\n",
      "(95, 0.0027962883) Relationship between the GOLD combined COPD assessment staging system and bacterial isolation \n",
      "\n",
      "Some patients with chronic obstructive pulmonary disea\n",
      "(79, 0.0026990343) Does spatial proximity drive norovirus transmission during outbreaks in hospitals? \n",
      "\n",
      "Norovirus is the commonest cause of gastrointestinal infection wo\n",
      "(56, 0.0026489897) Pathogenic Influenza Viruses and Coronaviruses Utilize Similar and Contrasting Approaches To Control Interferon-Stimulated Gene Responses \n",
      "\n",
      "Acute resp\n",
      "(51, 0.0026055765) Kawasaki Disease: Laboratory Findings and an Immunopathogenesis on the Premise of a \"Protein Homeostasis System\" \n",
      "\n",
      "Kawasaki disease (KD) is a self-lim\n",
      "(67, 0.0025318507) Sendai virus intra-host population dynamics and host immunocompetence influence viral virulence during in vivo passage \n",
      "\n",
      "Novel human viral pathogens a\n",
      "(58, 0.0024772114) Critical role of ethics in clinical management and public health response to the West Africa Ebola epidemic \n",
      "\n",
      "The magnitude of the recent Ebola virus \n",
      "(90, 0.002452207) Public preferences for interventions to prevent emerging infectious disease threats: a discrete choice experiment \n",
      "\n",
      "The last decade has witnessed the \n",
      "(92, 0.0024196897) Emergency cesarean section in an epidemic of the middle east respiratory syndrome: a case report \n",
      "\n",
      "A 39-year-old woman (gravida 2 para 1) had reverset\n",
      "(66, 0.002354704) Efficient Replication of the Novel Human Betacoronavirus EMC on Primary Human Epithelium Highlights Its Zoonotic Potential \n",
      "\n",
      "Coronaviruses are envelop\n",
      "(25, 0.0022828628) A Systems Biology Approach to Infectious Disease Research: Innovating the Pathogen-Host Research Paradigm \n",
      "\n",
      "Infectious diseases continue to be major h\n",
      "(71, 0.002185525) Cytoplasmic domains of cellular and viral integral membrane proteins substitute for the cytoplasmic domain of the vesicular stomatitis virus glycoprot\n",
      "(35, 0.0021713823) A47 Origin and possible genetic recombination of the middle east respiratory syndrome coronavirus from the first imported case in china: phylogenetics\n",
      "(59, 0.0021386815) Role of brain renin angiotensin system in neurodegeneration: An update \n",
      "\n",
      "Renin angiotensin system (RAS) is an endocrine system widely known for its ph\n",
      "(18, 0.0019788067) How the Double Spherules of Infectious Bronchitis Virus Impact Our Understanding of RNA Virus Replicative Organelles \n",
      "\n",
      "In A Room of One’s Own, Virgini\n",
      "(31, 0.0017322798) Fatal Primary Human Bocavirus Pneumonia in an Immunocompetent Adult \n",
      "\n",
      "Human bocavirus (HBoV) is an emerging pathogen for which sequences were identifi\n",
      "(20, 0.0015974427) The Domestic Ferret (Mustela putorius furo) as a Lethal Infection Model for 3 Species of Ebolavirus \n",
      "\n",
      "Fifteen female ferrets weighing 0.75–1 kg were h\n",
      "(57, 0.0013192153) Anticancer compound ABT-263 accelerates apoptosis in virus-infected cells and imbalances cytokine production and lowers survival rates of infected mic\n",
      "(50, 0.0012949419) Distinctive clinical features of HPeV-3 infection in 2 neonates with a sepsis-like illness \n",
      "\n",
      "Human parechoviruses (HPeVs) are newly recognized single-\n",
      "(19, 0.0011939689) Identification of a Severe Acute Respiratory Syndrome Coronavirus-Like Virus in a Leaf-Nosed Bat in Nigeria \n",
      "\n",
      "Coronaviruses (order Nidovirales, family\n",
      "(87, 0.0010809309) Secretory Leukocyte Protease Inhibitor Binds to Annexin II, a Cofactor for Macrophage HIV-1 Infection \n",
      "\n",
      "Secretory leukocyte protease inhibitor (SLPI),\n",
      "(86, 0.001026874) Organisation of primary health care in the Asia-Pacific region: developing a prioritised research agenda \n",
      "\n",
      "A central feature of the universal health c\n",
      "(93, 0.0009859243) Guidelines for the Antibiotic Use in Adults with Acute Upper Respiratory Tract Infections \n",
      "\n",
      "This guideline presents the basic principles of antibiotic\n",
      "(54, 0.00095086684) Thin-section Computed Tomography Detects Long-term Pulmonary Sequelae 3 Years after Novel Influenza A Virus-associated Pneumonia \n",
      "\n",
      "In 2009, a novel ty\n",
      "(24, 0.00083983) IDBD: Infectious Disease Biomarker Database \n",
      "\n",
      "Infectious diseases remain among the leading causes of death and disability worldwide. About 15 million \n",
      "(26, 0.0007975353) Drugs in upper respiratory tract infections in paediatric patients in North Trinidad \n",
      "\n",
      "An upper respiratory tract infection (URTI) is a non-specific t\n",
      "(98, 0.0007439522) Dieckol, a Component of Ecklonia cava, Suppresses the Production of MDC/CCL22 via Down-Regulating STAT1 Pathway in Interferon-γ Stimulated HaCaT Human\n",
      "(22, 0.0007389565) Inhibition of translation by IFIT family members is determined by their ability to interact selectively with the 5′-terminal regions of cap0-, cap1- a\n",
      "(91, 0.0006660889) Factors influencing Dipylidium sp. infection in a free-ranging social carnivore, the spotted hyaena (Crocuta crocuta)☆ \n",
      "\n",
      "The adult form of Dipylidium \n",
      "(40, 0.0006468769) Techno-economic analysis of a transient plant-based platform for monoclonal antibody production \n",
      "\n",
      "Since the commercialization of the first therapeutic\n",
      "(21, 0.00060950534) A global perspective on hepatitis B‐related single nucleotide polymorphisms and evolution during human migration \n",
      "\n",
      "Chronic hepatitis B virus (HBV) is \n",
      "(15, 0.00057835545) Miniaturization for Point-of-Care Analysis: Platform Technology for Almost Every Biomedical Assay \n",
      "\n",
      "Different trends in modern medicine give rise to a\n",
      "(69, 0.00056025846) Metagenomic ventures into outer sequence space \n",
      "\n",
      "Metagenomics is the untargeted sequencing of genetic material isolated from communities of micro-orga\n",
      "(65, 0.00054771017) Preliminary Study on Detecting the SARS-CoV Specific Target cDNA Fragments by Multiplex PCR \n",
      "\n",
      "In November 2002, the severe acute respiratory syndrome \n",
      "(96, 0.0005476645) 2015 MERS outbreak in Korea: hospital-to-hospital transmission \n",
      "\n",
      "Out of the 186 confirmed cases as of July 26, 2015, 111 were male and 75 were female,\n",
      "(78, 0.0005412976) How HIV patients construct liveable identities in a shame based culture: the case of Singapore \n",
      "\n",
      "Despite the shift of HIV from a fatal disease to a ma\n",
      "(88, 0.0005186262) Combination treatment with quercetin and resveratrol attenuates high fat diet-induced obesity and associated inflammation in rats via the AMPKα1/SIRT1\n",
      "(64, 0.0005056977) Crazy paving pattern as a rare radiological manifestation of peripheral T-cell lymphoma (PTCL) with lung involvement: A case report \n",
      "\n",
      "A 70 - year old \n",
      "(61, 0.00049819256) Prevalence and outcomes of Guillain-Barré syndrome among pediatrics in Saudi Arabia: a 10-year retrospective study \n",
      "\n",
      "The purpose of this study was to \n",
      "(28, 0.0004076709) In wound repair vimentin mediates the transition of mesenchymal leader cells to a myofibroblast phenotype \n",
      "\n",
      "In the normal repair process, mesenchymal \n",
      "(16, 0.0003710302) Two‐pore channels regulate Tat endolysosome escape and Tat‐mediated HIV‐1 LTR transactivation \n",
      "\n",
      "Infecting 36.9 million people globally, HIV‐1 virus ca\n",
      "(10, 0.0003673093) Validation of the Munich ChronoType Questionnaire in Korean Older Adults* \n",
      "\n",
      "Sleep disorders in Korea have been steadily increasing [ ]. Although sleep\n",
      "(36, 0.00030355412) Stimulation of ribosomal frameshifting by antisense LNA \n",
      "\n",
      "Programmed ribosomal frameshifting is a translational recoding event that increases the vers\n",
      "(0, 0.00028867635) The role of lateral pterygoid muscle in the traumatic temporomandibular joint ankylosis: A gene chip based analysis \n",
      "\n",
      "The temporomandibular joint (TMJ\n",
      "(55, 0.0002623539) Small synthetic molecule-stabilized RNA pseudoknot as an activator for –1 ribosomal frameshifting \n",
      "\n",
      "The discovery of functional non-coding RNAs has le\n",
      "(11, 0.00019878235) Glucose 6-phosphate dehydrogenase deficiency enhances germ cell apoptosis and causes defective embryogenesis in Caenorhabditis elegans \n",
      "\n",
      "G6PD is ubiqu\n",
      "(23, 0.00017444724) CSBF/C10orf99, a novel potential cytokine, inhibits colon cancer cell growth through inducing G1 arrest \n",
      "\n",
      "The complete cDNA and deduced amino acid seq\n",
      "(53, 0.00014301015) A Transfected Sialyltransferase That Is Elevated in Breast Cancer and Localizes to the medial/trans-Golgi Apparatus Inhibits the Development of core-2\n",
      "(60, 0.00013687425) CVTree update: a newly designed phylogenetic study platform using composition vectors and whole genomes \n",
      "\n",
      "Traditional molecular phylogeny makes use of\n",
      "(34, 5.5044537e-05) Molecular dynamics simulations of human tRNAUUULys,3: the role of modified bases in mRNA recognition \n",
      "\n",
      "Nonstandard bases are most prevalently found in\n",
      "(43, 4.9174403e-05) Identification of Urinary CD44 and Prosaposin as Specific Biomarkers of Urinary Tract Infections in Children With Neurogenic Bladders \n",
      "\n",
      "Children with \n",
      "(6, 0.0) 724. Neurologic Complications in Hospitalized Pediatric Patients with Influenza Infection, A Multicenter Retrospective Study in Korea \n",
      "\n",
      "\n",
      "(7, 0.0) Implementation of the IHR Joint External Evaluation: Taiwan's Experiences \n",
      "\n",
      "Taiwan had a population of 23.5 million and a nominal gross domestic produ\n",
      "(42, 0.0) Interhospital Transport System for Critically Ill Patients: Mobile Extracorporeal Membrane Oxygenation without a Ventilator \n",
      "\n",
      "Since the efficacy of tr\n",
      "(62, 0.0) Sorting of progeny coronavirus from condensed secretory proteins at the exit from the trans-Golgi network of AtT20 cells \n",
      "\n",
      "\n",
      "(63, 0.0) Phylogenetic Analysis of Astrovirus and Kobuvirus in Korean\n",
      "Dogs \n",
      "\n",
      "The nucleotide sequences of CAstV and CKoV isolated from Korean dogs were submitted\n",
      "(72, 0.0) Enhancing production of ergosterol in Pichia pastoris GS115 by over-expression of 3-hydroxy-3-methylglutaryl CoA reductase from Glycyrrhiza uralensis \n",
      "(73, 0.0) Distinct molecular mechanisms for protein sorting within immature secretory granules of pancreatic beta-cells \n",
      "\n",
      "\n",
      "(83, 0.0) A Golgi retention signal in a membrane-spanning domain of coronavirus E1 protein \n",
      "\n",
      "\n"
     ]
    }
   ],
   "source": [
    "#Get relevant paper_id's\n",
    "ids = []\n",
    "for i, s in enumerate(sims):\n",
    "    print(s, papers[s[0]][:150])\n",
    "    ids.append(s[0])"
   ]
  },
  {
   "cell_type": "code",
   "execution_count": 17,
   "metadata": {
    "scrolled": true
   },
   "outputs": [],
   "source": [
    "ids = ids[:10]"
   ]
  },
  {
   "cell_type": "markdown",
   "metadata": {},
   "source": [
    "### Look into the queried documents"
   ]
  },
  {
   "cell_type": "code",
   "execution_count": 18,
   "metadata": {},
   "outputs": [],
   "source": [
    "#look at the tf-idf scores of words in a document for the query\n"
   ]
  },
  {
   "cell_type": "code",
   "execution_count": 19,
   "metadata": {},
   "outputs": [],
   "source": [
    "query = example.lower().split(' ')"
   ]
  },
  {
   "cell_type": "code",
   "execution_count": 20,
   "metadata": {},
   "outputs": [],
   "source": [
    "id_list = [ s[0] for s in sorted(tfidf[bow_corpus[80]],key=lambda tup: -tup[-1])][:10]"
   ]
  },
  {
   "cell_type": "code",
   "execution_count": 21,
   "metadata": {},
   "outputs": [
    {
     "data": {
      "text/plain": [
       "[3180, 8865, 9132, 2241, 3099, 3220, 3091, 2560, 6204, 636]"
      ]
     },
     "execution_count": 21,
     "metadata": {},
     "output_type": "execute_result"
    }
   ],
   "source": [
    "id_list"
   ]
  },
  {
   "cell_type": "code",
   "execution_count": 53,
   "metadata": {},
   "outputs": [],
   "source": [
    "keywords = []\n",
    "for i in id_list:\n",
    "    keywords.append(dictionary[i])\n",
    "#     print(dictionary.id2token[3180])"
   ]
  },
  {
   "cell_type": "code",
   "execution_count": null,
   "metadata": {},
   "outputs": [],
   "source": []
  },
  {
   "cell_type": "code",
   "execution_count": 48,
   "metadata": {},
   "outputs": [],
   "source": [
    "exp_pap = papers[80].split('.')\n",
    "sentences = []"
   ]
  },
  {
   "cell_type": "code",
   "execution_count": 49,
   "metadata": {},
   "outputs": [],
   "source": [
    "#Find parts that include keywords\n",
    "for s in exp_pap:\n",
    "    for k in keywords:\n",
    "        if k in s:\n",
    "            sentences.append(s)\n"
   ]
  },
  {
   "cell_type": "code",
   "execution_count": 50,
   "metadata": {},
   "outputs": [
    {
     "data": {
      "text/plain": [
       "['Epidemiological status of the Middle East respiratory syndrome coronavirus in 2019: an update from January 1 to March 31, 2019 \\n\\nHuman coronaviruses (hCoV) usually causes mild-to-moderate upper respiratory tract illnesses',\n",
       " '  The patterns of transmission and origins of MERS CoV remain unclear, and based on the analysis of different virus genomes, it is declared that it may have originated in bats and was transmitted to camels sometime in the distant past',\n",
       " '  Globally, from September 2012 until 24 April 2019, WHO has been notified of 2374 laboratory-confirmed cases of infection with MERS-CoV including 823 associated deaths from 27 countries worldwide',\n",
       " '  Globally, from September 2012 until 24 April 2019, WHO has been notified of 2374 laboratory-confirmed cases of infection with MERS-CoV including 823 associated deaths from 27 countries worldwide',\n",
       " ' After 8 years from the onset of the MERS-CoV outbreak, this infection is still considered as a public health threat with no vaccine or specific treatment and also with some unknown epidemiological aspects related to it',\n",
       " ' This study represents the current epidemiological status (mortality risk, identify potential risk factor, and geographical distribution) of the MERS-CoV in the world in 2019 and identified and highlighted the most probable risk factors related to this infection',\n",
       " ' Quantitative and qualitative variables were presented as absolute frequencies, proportions for categorical variables, and interquartile ranges for continuous variables',\n",
       " '\\nAs of 1st of January 2019 until 31st of March 2019, a total of 107 cases of MERS-CoV, including 18 deaths (overall CFR, 16',\n",
       " '8%; male-specific CFR was 17',\n",
       " '5% [14/80] and female-specific CFR was %14',\n",
       " '5% [14/80] and female-specific CFR was %14',\n",
       " '8[4/27]), were reported to WHO from the National IHR Focal Points of Saudi Arabia and Oman',\n",
       " '3 days [range 0 until 13]',\n",
       " '5 days [range 1 until 29], the average time from onset of symptom to death was 17',\n",
       " '7 days [range 1 until 41], and the mean of hospitalization for patient with MERS-CoV was 3',\n",
       " '9 days [range 1 until 23]',\n",
       " '5[95% CI: 1',\n",
       " '3[95% CI: 1',\n",
       " '9[95% CI: 1',\n",
       " '0 [95% CI: 1',\n",
       " '0-fold greater [95% CI: 1',\n",
       " '05[95% CI: 1',\n",
       " '05 [95% CI: 1',\n",
       " '06 [95% CI: 1',\n",
       " '0] for those who had exposure to camels, camel milk consumption and close contact with MERS-CoV cases, respectively',\n",
       " ' 4 fold greater [95% CI: 1',\n",
       " '\\n\\n\\nEpidemic curve of MERS-CoV human cases from the 1st of January 2019 until 31st of the March 2019 (per WHO data) and also the distributional status of these cases by involved county and city are shown in           and  ',\n",
       " '\\n\\n\\nEpidemic curve of MERS-CoV human cases from the 1st of January 2019 until 31st of the March 2019 (per WHO data) and also the distributional status of these cases by involved county and city are shown in           and  ',\n",
       " '  The results showed that with no substantial epidemic change, after 8 years from the onset of MERS-CoV outbreak and despite significant improvements in surveillance for MERS infection, especially in the Middle East, still cases of this infection are reporting to the WHO from some countries, such as Saudi Arabia and Oman in the first three months of 2019 (       )',\n",
       " '  The results showed that with no substantial epidemic change, after 8 years from the onset of MERS-CoV outbreak and despite significant improvements in surveillance for MERS infection, especially in the Middle East, still cases of this infection are reporting to the WHO from some countries, such as Saudi Arabia and Oman in the first three months of 2019 (       )',\n",
       " '8% for all known case patients with MERS in involved countries in the first three months of 2019',\n",
       " ' Furman et al in 2014 in their study suggested that there is also a higher incidence of influenza in men in comparisons to women, which is due to a higher level of testosterone and corresponding suppression of their immune response',\n",
       " '\\nSeveral studies ,  ,  –   including the current study (       , suggest that the male gender; health care worker; MERS patients above the age of 60 with an underlying medical conditions, such as hypertension, diabetes and renal failure; those who had exposure to camels and camel milk consumption; and close contact with MERS-CoV cases had a significantly higher risk of severe disease, including death',\n",
       " '\\nThe number of reported cases of MERS-CoV increased remarkably between 1st and 13th of February 2019 (61',\n",
       " ' Possible misclassification in the categorization of MERS cases may be due to the respondents, declaration for example in exposure to camels, camel milk consumption, exposure to MERS-CoV cases, and comorbidity which potentially may occur as a result of the measurement bias',\n",
       " '\\nIn summary, this information could be important to identify the underlying condition associated with death in MERS-CoV patients']"
      ]
     },
     "execution_count": 50,
     "metadata": {},
     "output_type": "execute_result"
    }
   ],
   "source": [
    "sentences"
   ]
  },
  {
   "cell_type": "code",
   "execution_count": null,
   "metadata": {},
   "outputs": [],
   "source": [
    "lemmatized"
   ]
  },
  {
   "cell_type": "code",
   "execution_count": 52,
   "metadata": {},
   "outputs": [
    {
     "data": {
      "text/plain": [
       "'completely'"
      ]
     },
     "execution_count": 52,
     "metadata": {},
     "output_type": "execute_result"
    }
   ],
   "source": []
  },
  {
   "cell_type": "code",
   "execution_count": 54,
   "metadata": {},
   "outputs": [],
   "source": [
    "tfidf.save(\"./data/tfidf.pkl\")"
   ]
  },
  {
   "cell_type": "code",
   "execution_count": 55,
   "metadata": {},
   "outputs": [],
   "source": [
    "mod = models.TfidfModel.load(\"./data/tfidf.pkl\")"
   ]
  },
  {
   "cell_type": "code",
   "execution_count": 56,
   "metadata": {},
   "outputs": [
    {
     "data": {
      "text/plain": [
       "<gensim.models.tfidfmodel.TfidfModel at 0x7f76dfb2f7d0>"
      ]
     },
     "execution_count": 56,
     "metadata": {},
     "output_type": "execute_result"
    }
   ],
   "source": [
    "mod"
   ]
  },
  {
   "cell_type": "code",
   "execution_count": 62,
   "metadata": {},
   "outputs": [
    {
     "data": {
      "text/plain": [
       "[(221, 0.09828000450893809),\n",
       " (1506, 0.1687864636916478),\n",
       " (1685, 0.06470179296371363),\n",
       " (6181, 0.7209178167819962),\n",
       " (8865, 0.6617728838670803)]"
      ]
     },
     "execution_count": 62,
     "metadata": {},
     "output_type": "execute_result"
    }
   ],
   "source": [
    "mod[exp_bow]"
   ]
  },
  {
   "cell_type": "code",
   "execution_count": 63,
   "metadata": {},
   "outputs": [
    {
     "data": {
      "text/plain": [
       "[(221, 0.09828000450893809),\n",
       " (1506, 0.1687864636916478),\n",
       " (1685, 0.06470179296371363),\n",
       " (6181, 0.7209178167819962),\n",
       " (8865, 0.6617728838670803)]"
      ]
     },
     "execution_count": 63,
     "metadata": {},
     "output_type": "execute_result"
    }
   ],
   "source": [
    "tfidf[exp_bow]"
   ]
  },
  {
   "cell_type": "markdown",
   "metadata": {},
   "source": [
    "## Paper Extraction\n"
   ]
  },
  {
   "cell_type": "code",
   "execution_count": 95,
   "metadata": {},
   "outputs": [],
   "source": [
    "#Filter the papers from 2019 and 2020 \n",
    "import pandas as pd \n",
    "import numpy as np \n",
    "\n",
    "metadata = pd.read_csv(\"./data/metadata.csv\",low_memory=False)\n",
    "to_drop = list(metadata[pd.isna(metadata['publish_time'])].index)\n",
    "to_drop = to_drop + list(metadata[pd.isna(metadata['sha'])].index)\n",
    "to_drop = np.array(to_drop)\n",
    "to_drop = list(np.unique(to_drop))\n",
    "metadata = metadata.drop(to_drop,axis=0)\n",
    "\n",
    "p19 = metadata[metadata['publish_time'].str.contains('2019',regex=False)]\n",
    "p20 = metadata[metadata['publish_time'].str.contains('2020',regex=False)]\n",
    "\n",
    "metadata_papers = pd.concat([p19,p20],axis=0)\n"
   ]
  },
  {
   "cell_type": "code",
   "execution_count": 26,
   "metadata": {},
   "outputs": [
    {
     "name": "stdout",
     "output_type": "stream",
     "text": [
      "Got file paths\n"
     ]
    }
   ],
   "source": [
    "import os \n",
    "path_csv = \"./data/papers.csv\"\n",
    "files = pd.DataFrame(columns=[\"name\", \"path\"])\n",
    "\n",
    "#Get JSON Files' paths\n",
    "for dirname, _, filenames in os.walk('./data'):\n",
    "    for filename in filenames:\n",
    "        files = files.append({'name': filename, 'path': os.path.join(dirname, filename)}, ignore_index=True)\n",
    "print(\"Got file paths\")\n",
    "\n",
    "#Drop irrelevant files that are not json\n",
    "idx = files[files.name.str.contains(\".json\") == False].index\n",
    "files.drop(index=idx, inplace=True)\n",
    "files.reset_index(inplace=True)\n",
    "files.drop(\"index\", axis=1, inplace=True)"
   ]
  },
  {
   "cell_type": "code",
   "execution_count": 57,
   "metadata": {},
   "outputs": [],
   "source": [
    "def getName(string):\n",
    "    for i in range(len(string)):\n",
    "        if string[i] == \".\":\n",
    "            return string[:i]\n",
    "\n",
    "files['file_name'] = files['name'].map(lambda file_name: getName(file_name))"
   ]
  },
  {
   "cell_type": "code",
   "execution_count": 69,
   "metadata": {},
   "outputs": [],
   "source": [
    "files['sha_flag'] = files['file_name'].isin(list(metadata_papers['sha']))\n",
    "files['pmc_flag'] = files['file_name'].isin(list(metadata_papers['pmcid']))"
   ]
  },
  {
   "cell_type": "code",
   "execution_count": 80,
   "metadata": {},
   "outputs": [
    {
     "data": {
      "text/plain": [
       "Index(['cord_uid', 'sha', 'source_x', 'title', 'doi', 'pmcid', 'pubmed_id',\n",
       "       'license', 'abstract', 'publish_time', 'authors', 'journal',\n",
       "       'Microsoft Academic Paper ID', 'WHO #Covidence', 'has_pdf_parse',\n",
       "       'has_pmc_xml_parse', 'full_text_file', 'url'],\n",
       "      dtype='object')"
      ]
     },
     "execution_count": 80,
     "metadata": {},
     "output_type": "execute_result"
    }
   ],
   "source": []
  },
  {
   "cell_type": "code",
   "execution_count": 88,
   "metadata": {},
   "outputs": [],
   "source": []
  },
  {
   "cell_type": "code",
   "execution_count": 91,
   "metadata": {},
   "outputs": [],
   "source": [
    "\n"
   ]
  },
  {
   "cell_type": "code",
   "execution_count": 92,
   "metadata": {},
   "outputs": [],
   "source": []
  },
  {
   "cell_type": "code",
   "execution_count": 93,
   "metadata": {},
   "outputs": [
    {
     "data": {
      "text/plain": [
       "13006"
      ]
     },
     "execution_count": 93,
     "metadata": {},
     "output_type": "execute_result"
    }
   ],
   "source": [
    "len(to_drop)"
   ]
  },
  {
   "cell_type": "code",
   "execution_count": null,
   "metadata": {},
   "outputs": [],
   "source": []
  }
 ],
 "metadata": {
  "kernelspec": {
   "display_name": "Python 3",
   "language": "python",
   "name": "python3"
  },
  "language_info": {
   "codemirror_mode": {
    "name": "ipython",
    "version": 3
   },
   "file_extension": ".py",
   "mimetype": "text/x-python",
   "name": "python",
   "nbconvert_exporter": "python",
   "pygments_lexer": "ipython3",
   "version": "3.7.5"
  }
 },
 "nbformat": 4,
 "nbformat_minor": 2
}
